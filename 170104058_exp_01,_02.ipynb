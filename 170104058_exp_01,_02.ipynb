{
  "nbformat": 4,
  "nbformat_minor": 0,
  "metadata": {
    "colab": {
      "name": "170104058_exp_01, 02.ipynb",
      "provenance": [],
      "collapsed_sections": [
        "8htM9w2LmUVl",
        "qwUCT3CtWk4E",
        "DVvV0oHrGmsI"
      ]
    },
    "kernelspec": {
      "name": "python3",
      "display_name": "Python 3"
    },
    "language_info": {
      "name": "python"
    }
  },
  "cells": [
    {
      "cell_type": "code",
      "metadata": {
        "id": "4UMKTgRoeqfW"
      },
      "source": [
        "import numpy as np\n",
        "import pandas as pd\n",
        "import torch\n",
        "import torch.nn as nn\n",
        "import torch.nn.functional as F\n",
        "import torch.optim as optim\n",
        "from torch.utils.data import Dataset\n",
        "from torch.utils.data.sampler import SubsetRandomSampler\n",
        "import matplotlib\n",
        "import matplotlib.pyplot as plt\n",
        "from PIL import Image\n",
        "from torchvision import datasets, transforms, models\n",
        "from torch.autograd import Variable\n",
        "from zipfile import ZipFile\n",
        "import os\n",
        "from os import path\n",
        "import shutil"
      ],
      "execution_count": 2,
      "outputs": []
    },
    {
      "cell_type": "code",
      "metadata": {
        "id": "RManlEUee0_s"
      },
      "source": [
        "url = '/content/drive/MyDrive/CSE4238/Offline 2/'"
      ],
      "execution_count": null,
      "outputs": []
    },
    {
      "cell_type": "code",
      "metadata": {
        "id": "HC1Mh0lIGogh"
      },
      "source": [
        "dataset_A = url + 'Dataset A.zip'\n",
        "with ZipFile(dataset_A, 'r') as zip:\n",
        "  zip.extractall()"
      ],
      "execution_count": null,
      "outputs": []
    },
    {
      "cell_type": "code",
      "metadata": {
        "colab": {
          "base_uri": "https://localhost:8080/",
          "height": 221
        },
        "id": "xy-Cey0sf9Fz",
        "outputId": "a6261ed7-46ea-42c9-93b5-0e7e0f8ceabd"
      },
      "source": [
        "PATH = '/content/'\n",
        "data_labels = pd.read_csv(PATH + 'training-a.csv', usecols = ['filename', 'digit'])\n",
        "print(data_labels.shape)\n",
        "data_labels.head()"
      ],
      "execution_count": null,
      "outputs": [
        {
          "output_type": "stream",
          "name": "stdout",
          "text": [
            "(19702, 2)\n"
          ]
        },
        {
          "output_type": "execute_result",
          "data": {
            "text/html": [
              "<div>\n",
              "<style scoped>\n",
              "    .dataframe tbody tr th:only-of-type {\n",
              "        vertical-align: middle;\n",
              "    }\n",
              "\n",
              "    .dataframe tbody tr th {\n",
              "        vertical-align: top;\n",
              "    }\n",
              "\n",
              "    .dataframe thead th {\n",
              "        text-align: right;\n",
              "    }\n",
              "</style>\n",
              "<table border=\"1\" class=\"dataframe\">\n",
              "  <thead>\n",
              "    <tr style=\"text-align: right;\">\n",
              "      <th></th>\n",
              "      <th>filename</th>\n",
              "      <th>digit</th>\n",
              "    </tr>\n",
              "  </thead>\n",
              "  <tbody>\n",
              "    <tr>\n",
              "      <th>0</th>\n",
              "      <td>a00000.png</td>\n",
              "      <td>5</td>\n",
              "    </tr>\n",
              "    <tr>\n",
              "      <th>1</th>\n",
              "      <td>a00001.png</td>\n",
              "      <td>3</td>\n",
              "    </tr>\n",
              "    <tr>\n",
              "      <th>2</th>\n",
              "      <td>a00002.png</td>\n",
              "      <td>1</td>\n",
              "    </tr>\n",
              "    <tr>\n",
              "      <th>3</th>\n",
              "      <td>a00003.png</td>\n",
              "      <td>7</td>\n",
              "    </tr>\n",
              "    <tr>\n",
              "      <th>4</th>\n",
              "      <td>a00004.png</td>\n",
              "      <td>0</td>\n",
              "    </tr>\n",
              "  </tbody>\n",
              "</table>\n",
              "</div>"
            ],
            "text/plain": [
              "     filename  digit\n",
              "0  a00000.png      5\n",
              "1  a00001.png      3\n",
              "2  a00002.png      1\n",
              "3  a00003.png      7\n",
              "4  a00004.png      0"
            ]
          },
          "metadata": {},
          "execution_count": 4
        }
      ]
    },
    {
      "cell_type": "code",
      "metadata": {
        "id": "dHZReFIvduUU"
      },
      "source": [
        "TRAIN_PATH = url + 'Train'"
      ],
      "execution_count": null,
      "outputs": []
    },
    {
      "cell_type": "code",
      "metadata": {
        "id": "hTJ2ocEEHVGA"
      },
      "source": [
        "os.mkdir(TRAIN_PATH)\n",
        "\n",
        "def processImages(folder_name):\n",
        "  src = PATH + folder_name + '/'\n",
        "  dir_folders = os.listdir(src)\n",
        "  for dir_name in dir_folders:\n",
        "    file_name = os.path.join(src, dir_name)\n",
        "    if os.path.isfile(file_name):\n",
        "      shutil.copy(file_name, TRAIN_PATH) \n",
        "\n",
        "processImages('training-a')"
      ],
      "execution_count": null,
      "outputs": []
    },
    {
      "cell_type": "code",
      "metadata": {
        "id": "zmE05jA4kTDU"
      },
      "source": [
        "class Dataset(Dataset):\n",
        "    def __init__(self, df, root, transform=None):\n",
        "        self.data = df\n",
        "        self.root = root\n",
        "        self.transform = transform\n",
        "        \n",
        "    def __len__(self):\n",
        "        return len(self.data)\n",
        "    \n",
        "    def __getitem__(self, index):\n",
        "        item = self.data.iloc[index]\n",
        "        \n",
        "        path = self.root + \"/\" + item[0]\n",
        "        image = Image.open(path).convert('L')\n",
        "        label = item[1]\n",
        "        \n",
        "        if self.transform is not None:\n",
        "            image = self.transform(image)\n",
        "            \n",
        "        return image, label"
      ],
      "execution_count": null,
      "outputs": []
    },
    {
      "cell_type": "code",
      "metadata": {
        "colab": {
          "base_uri": "https://localhost:8080/"
        },
        "id": "adaZ60Uik-eb",
        "outputId": "8b9f3be6-b553-4e57-d8c4-92adc26a3df9"
      },
      "source": [
        "mean = [0.5,]\n",
        "std = [0.5, ]\n",
        "\n",
        "train_transform = transforms.Compose([\n",
        "    transforms.Resize(28),\n",
        "    transforms.ToTensor(),\n",
        "    transforms.Normalize(mean, std)\n",
        "])\n",
        "\n",
        "test_transform = transforms.Compose([\n",
        "        transforms.Resize(28),\n",
        "        transforms.ToTensor(),\n",
        "        transforms.Normalize(mean, std)\n",
        "])\n",
        "\n",
        "train_data  = Dataset(data_labels, TRAIN_PATH, train_transform)\n",
        "test_data = Dataset(data_labels, TRAIN_PATH, test_transform)\n",
        "\n",
        "print(\"Trainig Samples: \", len(train_data))"
      ],
      "execution_count": null,
      "outputs": [
        {
          "output_type": "stream",
          "name": "stdout",
          "text": [
            "Trainig Samples:  19702\n"
          ]
        }
      ]
    },
    {
      "cell_type": "code",
      "metadata": {
        "id": "PNsegOjE3nfF"
      },
      "source": [
        "np.random.seed(11)"
      ],
      "execution_count": null,
      "outputs": []
    },
    {
      "cell_type": "markdown",
      "metadata": {
        "id": "8htM9w2LmUVl"
      },
      "source": [
        "# **Base Parameters**"
      ]
    },
    {
      "cell_type": "code",
      "metadata": {
        "colab": {
          "base_uri": "https://localhost:8080/"
        },
        "id": "IGG3l4vrmkI3",
        "outputId": "6a36b17c-57fd-45a9-f19d-4f4416f51407"
      },
      "source": [
        "batch_size = 20\n",
        "num_iters = 20000\n",
        "input_dim = 28*28\n",
        "num_hidden = 200\n",
        "output_dim = 10\n",
        "\n",
        "learning_rate = 0.01\n",
        "\n",
        "num_epochs = num_iters / (len(train_data) / batch_size)\n",
        "num_epochs = int(num_epochs)\n",
        "print(num_epochs)\n",
        "\n",
        "device = torch.device(\"cuda:0\" if torch.cuda.is_available() else \"cpu\")"
      ],
      "execution_count": null,
      "outputs": [
        {
          "output_type": "stream",
          "text": [
            "20\n"
          ],
          "name": "stdout"
        }
      ]
    },
    {
      "cell_type": "code",
      "metadata": {
        "colab": {
          "base_uri": "https://localhost:8080/"
        },
        "id": "lsSesapsltZF",
        "outputId": "72b5fe74-6eaa-4c18-b642-a52ddb0f99d5"
      },
      "source": [
        "test_size = 0.2\n",
        "num_train = len(train_data)\n",
        "indices = list(range(num_train))\n",
        "np.random.shuffle(indices)\n",
        "split = int(np.floor(test_size * num_train))\n",
        "train_idx, test_idx = indices[split:], indices[:split]\n",
        "\n",
        "train_sampler = SubsetRandomSampler(train_idx)\n",
        "test_sampler = SubsetRandomSampler(test_idx)\n",
        "\n",
        "train_loader = torch.utils.data.DataLoader(\n",
        "    train_data, batch_size=batch_size,\n",
        "    sampler=train_sampler)\n",
        "\n",
        "test_loader = torch.utils.data.DataLoader(\n",
        "    test_data, batch_size=batch_size,\n",
        "    sampler=test_sampler)\n",
        "\n",
        "print(\"Train dataloader:{}\".format(len(train_loader)))\n",
        "print(\"Test dataloader:{}\".format(len(test_loader)))"
      ],
      "execution_count": null,
      "outputs": [
        {
          "output_type": "stream",
          "text": [
            "Train dataloader:789\n",
            "Test dataloader:197\n"
          ],
          "name": "stdout"
        }
      ]
    },
    {
      "cell_type": "code",
      "metadata": {
        "id": "6jCcU8giniGS"
      },
      "source": [
        "class DeepNeuralNetworkModel(nn.Module):\n",
        "    def __init__(self, input_size, num_classes, num_hidden):\n",
        "        super().__init__()\n",
        "       \n",
        "        self.linear_1 = nn.Linear(input_size, num_hidden)\n",
        "        self.relu_1 = nn.ReLU()\n",
        " \n",
        "        self.linear_2 = nn.Linear(num_hidden, num_hidden)\n",
        "        self.relu_2 = nn.ReLU()\n",
        " \n",
        "        self.linear_3 = nn.Linear(num_hidden, num_hidden)\n",
        "        self.relu_3 = nn.ReLU()\n",
        " \n",
        "        self.linear_4 = nn.Linear(num_hidden, num_hidden)\n",
        "        self.relu_4 = nn.ReLU()\n",
        " \n",
        "        self.linear_5= nn.Linear(num_hidden, num_hidden)\n",
        "        self.relu_5= nn.ReLU()\n",
        " \n",
        "        self.linear_6 = nn.Linear(num_hidden, num_hidden)\n",
        "        self.relu_6 = nn.ReLU()\n",
        " \n",
        "        self.linear_out = nn.Linear(num_hidden, num_classes)\n",
        " \n",
        "    def forward(self, x):\n",
        "        out  = self.linear_1(x)\n",
        "        out = self.relu_1(out)\n",
        "        \n",
        "        out  = self.linear_2(out)\n",
        "        out = self.relu_2(out)\n",
        " \n",
        "        out  = self.linear_3(out)\n",
        "        out = self.relu_3(out)\n",
        " \n",
        "        out  = self.linear_4(out)\n",
        "        out = self.relu_4(out)\n",
        " \n",
        "        out  = self.linear_5(out)\n",
        "        out = self.relu_5(out)\n",
        " \n",
        "        out  = self.linear_6(out)\n",
        "        out = self.relu_6(out)\n",
        "        \n",
        "        probas  = self.linear_out(out)\n",
        "        return probas"
      ],
      "execution_count": null,
      "outputs": []
    },
    {
      "cell_type": "code",
      "metadata": {
        "colab": {
          "base_uri": "https://localhost:8080/"
        },
        "id": "Q23HotHio42L",
        "outputId": "1171c191-3742-47e9-fe29-daf9130927c8"
      },
      "source": [
        "model = DeepNeuralNetworkModel(input_size = input_dim, num_classes = output_dim, num_hidden = num_hidden)\n",
        "\n",
        "model.to(device)"
      ],
      "execution_count": null,
      "outputs": [
        {
          "output_type": "execute_result",
          "data": {
            "text/plain": [
              "DeepNeuralNetworkModel(\n",
              "  (linear_1): Linear(in_features=784, out_features=200, bias=True)\n",
              "  (relu_1): ReLU()\n",
              "  (linear_2): Linear(in_features=200, out_features=200, bias=True)\n",
              "  (relu_2): ReLU()\n",
              "  (linear_3): Linear(in_features=200, out_features=200, bias=True)\n",
              "  (relu_3): ReLU()\n",
              "  (linear_4): Linear(in_features=200, out_features=200, bias=True)\n",
              "  (relu_4): ReLU()\n",
              "  (linear_5): Linear(in_features=200, out_features=200, bias=True)\n",
              "  (relu_5): ReLU()\n",
              "  (linear_6): Linear(in_features=200, out_features=200, bias=True)\n",
              "  (relu_6): ReLU()\n",
              "  (linear_out): Linear(in_features=200, out_features=10, bias=True)\n",
              ")"
            ]
          },
          "metadata": {},
          "execution_count": 12
        }
      ]
    },
    {
      "cell_type": "code",
      "metadata": {
        "id": "V1YagXSipEth"
      },
      "source": [
        "criterion = nn.CrossEntropyLoss()\n",
        "optimizer = torch.optim.SGD(model.parameters(), lr = learning_rate)"
      ],
      "execution_count": null,
      "outputs": []
    },
    {
      "cell_type": "code",
      "metadata": {
        "colab": {
          "base_uri": "https://localhost:8080/"
        },
        "id": "6VJ_sYCMp2l9",
        "outputId": "1566b22e-45ca-4019-fcdc-424e3c20f11b"
      },
      "source": [
        "iteration_loss = []\n",
        "iter = 0\n",
        "for epoch in range(num_epochs):\n",
        "    print('Epoch: ', epoch + 1)\n",
        "    for i, (images, labels) in enumerate(train_loader):\n",
        "\n",
        "        images = images.view(-1, 28*28).to(device)\n",
        "        labels = labels.to(device)\n",
        "\n",
        "        optimizer.zero_grad()\n",
        "\n",
        "        outputs = model(images) \n",
        "\n",
        "        loss = criterion(outputs, labels)\n",
        "\n",
        "        loss.backward()\n",
        "\n",
        "        optimizer.step()\n",
        "\n",
        "        iter += 1\n",
        "\n",
        "        if iter % 500 == 0:        \n",
        "            correct = 0\n",
        "            total = 0\n",
        "            for images, labels in test_loader:\n",
        "               \n",
        "                images = images.view(-1, 28*28).to(device)\n",
        "\n",
        "                outputs = model(images)\n",
        "\n",
        "                _, predicted = torch.max(outputs, 1)\n",
        "\n",
        "                total += labels.size(0)\n",
        "\n",
        "                if torch.cuda.is_available():\n",
        "                    correct += (predicted.cpu() == labels.cpu()).sum() \n",
        "                else:\n",
        "                    correct += (predicted == labels).sum()\n",
        "\n",
        "            accuracy = 100 * correct.item() / total\n",
        "\n",
        "            iteration_loss.append(loss.item())\n",
        "            print('Iteration: {}. Loss: {}. Accuracy: {}'.format(iter, loss.item(), accuracy))"
      ],
      "execution_count": null,
      "outputs": [
        {
          "output_type": "stream",
          "text": [
            "Epoch:  1\n",
            "Iteration: 500. Loss: 2.2966954708099365. Accuracy: 9.796954314720812\n",
            "Epoch:  2\n",
            "Iteration: 1000. Loss: 2.2998671531677246. Accuracy: 9.441624365482234\n",
            "Iteration: 1500. Loss: 2.302687644958496. Accuracy: 9.416243654822335\n",
            "Epoch:  3\n",
            "Iteration: 2000. Loss: 2.302830934524536. Accuracy: 9.416243654822335\n",
            "Epoch:  4\n",
            "Iteration: 2500. Loss: 2.3040244579315186. Accuracy: 9.416243654822335\n",
            "Iteration: 3000. Loss: 2.3008973598480225. Accuracy: 9.416243654822335\n",
            "Epoch:  5\n",
            "Iteration: 3500. Loss: 2.301185369491577. Accuracy: 9.796954314720812\n",
            "Epoch:  6\n",
            "Iteration: 4000. Loss: 2.3048508167266846. Accuracy: 9.416243654822335\n",
            "Iteration: 4500. Loss: 2.3025825023651123. Accuracy: 9.796954314720812\n",
            "Epoch:  7\n",
            "Iteration: 5000. Loss: 2.3022825717926025. Accuracy: 10.558375634517766\n",
            "Iteration: 5500. Loss: 2.3053207397460938. Accuracy: 9.416243654822335\n",
            "Epoch:  8\n",
            "Iteration: 6000. Loss: 2.298295259475708. Accuracy: 9.416243654822335\n",
            "Epoch:  9\n",
            "Iteration: 6500. Loss: 2.3074378967285156. Accuracy: 9.796954314720812\n",
            "Iteration: 7000. Loss: 2.3038766384124756. Accuracy: 9.416243654822335\n",
            "Epoch:  10\n",
            "Iteration: 7500. Loss: 2.298896551132202. Accuracy: 9.416243654822335\n",
            "Epoch:  11\n",
            "Iteration: 8000. Loss: 2.300086498260498. Accuracy: 11.472081218274111\n",
            "Iteration: 8500. Loss: 2.306227922439575. Accuracy: 10.025380710659899\n",
            "Epoch:  12\n",
            "Iteration: 9000. Loss: 2.300537109375. Accuracy: 9.796954314720812\n",
            "Epoch:  13\n",
            "Iteration: 9500. Loss: 2.2955482006073. Accuracy: 12.131979695431472\n",
            "Iteration: 10000. Loss: 2.2958195209503174. Accuracy: 14.847715736040609\n",
            "Epoch:  14\n",
            "Iteration: 10500. Loss: 2.2950778007507324. Accuracy: 19.34010152284264\n",
            "Iteration: 11000. Loss: 2.273658037185669. Accuracy: 10.456852791878173\n",
            "Epoch:  15\n",
            "Iteration: 11500. Loss: 2.2702434062957764. Accuracy: 16.776649746192895\n",
            "Epoch:  16\n",
            "Iteration: 12000. Loss: 2.2396726608276367. Accuracy: 19.086294416243653\n",
            "Iteration: 12500. Loss: 2.2202656269073486. Accuracy: 12.385786802030458\n",
            "Epoch:  17\n",
            "Iteration: 13000. Loss: 2.1418139934539795. Accuracy: 15.83756345177665\n",
            "Epoch:  18\n",
            "Iteration: 13500. Loss: 1.9776060581207275. Accuracy: 18.65482233502538\n",
            "Iteration: 14000. Loss: 2.296581745147705. Accuracy: 14.949238578680204\n",
            "Epoch:  19\n",
            "Iteration: 14500. Loss: 1.9354232549667358. Accuracy: 14.365482233502538\n",
            "Epoch:  20\n",
            "Iteration: 15000. Loss: 1.9334173202514648. Accuracy: 18.17258883248731\n",
            "Iteration: 15500. Loss: 2.0327365398406982. Accuracy: 11.649746192893401\n"
          ],
          "name": "stdout"
        }
      ]
    },
    {
      "cell_type": "code",
      "metadata": {
        "id": "IwU44FpRqO9t"
      },
      "source": [
        "torch.save(model.state_dict(), '/content/drive/MyDrive/CSE4238/Offline 2/Models/model_base.pkl')"
      ],
      "execution_count": null,
      "outputs": []
    },
    {
      "cell_type": "code",
      "metadata": {
        "colab": {
          "base_uri": "https://localhost:8080/",
          "height": 316
        },
        "id": "1AIS0RVwq8ul",
        "outputId": "91f24f38-911c-4bca-bde1-107f33dc4107"
      },
      "source": [
        "print (iteration_loss)\n",
        "plt.plot(iteration_loss)\n",
        "plt.ylabel('Loss')\n",
        "plt.xlabel('Iteration')\n",
        "plt.show()"
      ],
      "execution_count": null,
      "outputs": [
        {
          "output_type": "stream",
          "text": [
            "[2.2966954708099365, 2.2998671531677246, 2.302687644958496, 2.302830934524536, 2.3040244579315186, 2.3008973598480225, 2.301185369491577, 2.3048508167266846, 2.3025825023651123, 2.3022825717926025, 2.3053207397460938, 2.298295259475708, 2.3074378967285156, 2.3038766384124756, 2.298896551132202, 2.300086498260498, 2.306227922439575, 2.300537109375, 2.2955482006073, 2.2958195209503174, 2.2950778007507324, 2.273658037185669, 2.2702434062957764, 2.2396726608276367, 2.2202656269073486, 2.1418139934539795, 1.9776060581207275, 2.296581745147705, 1.9354232549667358, 1.9334173202514648, 2.0327365398406982]\n"
          ],
          "name": "stdout"
        },
        {
          "output_type": "display_data",
          "data": {
            "image/png": "[encoded data removed]",
            "text/plain": [
              "<Figure size 432x288 with 1 Axes>"
            ]
          },
          "metadata": {
            "needs_background": "light"
          }
        }
      ]
    },
    {
      "cell_type": "markdown",
      "metadata": {
        "id": "qwUCT3CtWk4E"
      },
      "source": [
        "# **Tuned Parameters: 01**"
      ]
    },
    {
      "cell_type": "code",
      "metadata": {
        "colab": {
          "base_uri": "https://localhost:8080/"
        },
        "id": "wW8ENbP7Wswp",
        "outputId": "77f74c2e-e604-4500-d28e-294aa7dd6d61"
      },
      "source": [
        "batch_size = 200\n",
        "num_iters = 20000\n",
        "input_dim = 28*28\n",
        "num_hidden = 400\n",
        "output_dim = 10\n",
        "\n",
        "learning_rate = 0.1\n",
        "\n",
        "num_epochs = num_iters / (len(train_data) / batch_size)\n",
        "num_epochs = int(num_epochs)\n",
        "print(num_epochs)\n",
        "\n",
        "device = torch.device(\"cuda:0\" if torch.cuda.is_available() else \"cpu\")"
      ],
      "execution_count": null,
      "outputs": [
        {
          "output_type": "stream",
          "text": [
            "203\n"
          ],
          "name": "stdout"
        }
      ]
    },
    {
      "cell_type": "code",
      "metadata": {
        "colab": {
          "base_uri": "https://localhost:8080/"
        },
        "id": "2y0rF9CiZAAp",
        "outputId": "31fb80af-07c5-4c4c-c387-d9dcff6d31db"
      },
      "source": [
        "test_size = 0.2\n",
        "num_train = len(train_data)\n",
        "indices = list(range(num_train))\n",
        "np.random.shuffle(indices)\n",
        "split = int(np.floor(test_size * num_train))\n",
        "train_idx, test_idx = indices[split:], indices[:split]\n",
        "\n",
        "train_sampler = SubsetRandomSampler(train_idx)\n",
        "test_sampler = SubsetRandomSampler(test_idx)\n",
        "\n",
        "train_loader = torch.utils.data.DataLoader(\n",
        "    train_data, batch_size=batch_size,\n",
        "    sampler=train_sampler)\n",
        "\n",
        "test_loader = torch.utils.data.DataLoader(\n",
        "    test_data, batch_size=batch_size,\n",
        "    sampler=test_sampler)\n",
        "\n",
        "print(\"Train dataloader:{}\".format(len(train_loader)))\n",
        "print(\"Test dataloader:{}\".format(len(test_loader)))"
      ],
      "execution_count": null,
      "outputs": [
        {
          "output_type": "stream",
          "text": [
            "Train dataloader:79\n",
            "Test dataloader:20\n"
          ],
          "name": "stdout"
        }
      ]
    },
    {
      "cell_type": "code",
      "metadata": {
        "id": "Rrfmk2LdZdIb"
      },
      "source": [
        "class DeepNeuralNetworkModel(nn.Module):\n",
        "    def __init__(self, input_size, num_classes, num_hidden):\n",
        "        super().__init__()\n",
        "       \n",
        "        self.linear_1 = nn.Linear(input_size, num_hidden)\n",
        "        self.relu_1 = nn.ReLU()\n",
        " \n",
        "        self.linear_2 = nn.Linear(num_hidden, num_hidden)\n",
        "        self.relu_2 = nn.ReLU()\n",
        " \n",
        "        self.linear_3 = nn.Linear(num_hidden, num_hidden)\n",
        "        self.relu_3 = nn.ReLU()\n",
        " \n",
        "        self.linear_4 = nn.Linear(num_hidden, num_hidden)\n",
        "        self.relu_4 = nn.ReLU()\n",
        " \n",
        "        self.linear_5= nn.Linear(num_hidden, num_hidden)\n",
        "        self.relu_5= nn.ReLU()\n",
        " \n",
        "        self.linear_6 = nn.Linear(num_hidden, num_hidden)\n",
        "        self.relu_6 = nn.ReLU()\n",
        " \n",
        "        self.linear_out = nn.Linear(num_hidden, num_classes)\n",
        " \n",
        "    def forward(self, x):\n",
        "        out  = self.linear_1(x)\n",
        "        out = self.relu_1(out)\n",
        "        \n",
        "        out  = self.linear_2(out)\n",
        "        out = self.relu_2(out)\n",
        " \n",
        "        out  = self.linear_3(out)\n",
        "        out = self.relu_3(out)\n",
        " \n",
        "        out  = self.linear_4(out)\n",
        "        out = self.relu_4(out)\n",
        " \n",
        "        out  = self.linear_5(out)\n",
        "        out = self.relu_5(out)\n",
        " \n",
        "        out  = self.linear_6(out)\n",
        "        out = self.relu_6(out)\n",
        "        \n",
        "        probas  = self.linear_out(out)\n",
        "        return probas"
      ],
      "execution_count": null,
      "outputs": []
    },
    {
      "cell_type": "code",
      "metadata": {
        "colab": {
          "base_uri": "https://localhost:8080/"
        },
        "id": "OnCL1kMaZej0",
        "outputId": "5bc5b571-666d-404f-a565-bda6e73caa36"
      },
      "source": [
        "model = DeepNeuralNetworkModel(input_size = input_dim, num_classes = output_dim, num_hidden = num_hidden)\n",
        "\n",
        "model.to(device)"
      ],
      "execution_count": null,
      "outputs": [
        {
          "output_type": "execute_result",
          "data": {
            "text/plain": [
              "DeepNeuralNetworkModel(\n",
              "  (linear_1): Linear(in_features=784, out_features=400, bias=True)\n",
              "  (relu_1): ReLU()\n",
              "  (linear_2): Linear(in_features=400, out_features=400, bias=True)\n",
              "  (relu_2): ReLU()\n",
              "  (linear_3): Linear(in_features=400, out_features=400, bias=True)\n",
              "  (relu_3): ReLU()\n",
              "  (linear_4): Linear(in_features=400, out_features=400, bias=True)\n",
              "  (relu_4): ReLU()\n",
              "  (linear_5): Linear(in_features=400, out_features=400, bias=True)\n",
              "  (relu_5): ReLU()\n",
              "  (linear_6): Linear(in_features=400, out_features=400, bias=True)\n",
              "  (relu_6): ReLU()\n",
              "  (linear_out): Linear(in_features=400, out_features=10, bias=True)\n",
              ")"
            ]
          },
          "metadata": {},
          "execution_count": 37
        }
      ]
    },
    {
      "cell_type": "code",
      "metadata": {
        "id": "o--7XZoBZjL3"
      },
      "source": [
        "criterion = nn.CrossEntropyLoss()\n",
        "optimizer = torch.optim.SGD(model.parameters(), lr = learning_rate)"
      ],
      "execution_count": null,
      "outputs": []
    },
    {
      "cell_type": "code",
      "metadata": {
        "colab": {
          "base_uri": "https://localhost:8080/"
        },
        "id": "TwK8mznwZq38",
        "outputId": "44b61c61-f48a-4c4a-c559-2ef64b659800"
      },
      "source": [
        "iteration_loss = []\n",
        "iter = 0\n",
        "for epoch in range(num_epochs):\n",
        "    print('Epoch: ', epoch + 1)\n",
        "    for i, (images, labels) in enumerate(train_loader):\n",
        "\n",
        "        images = images.view(-1, 28*28).to(device)\n",
        "        labels = labels.to(device)\n",
        "\n",
        "        optimizer.zero_grad()\n",
        "\n",
        "        outputs = model(images) \n",
        "\n",
        "        loss = criterion(outputs, labels)\n",
        "\n",
        "        loss.backward()\n",
        "\n",
        "        optimizer.step()\n",
        "\n",
        "        iter += 1\n",
        "\n",
        "        if iter % 500 == 0:        \n",
        "            correct = 0\n",
        "            total = 0\n",
        "            for images, labels in test_loader:\n",
        "               \n",
        "                images = images.view(-1, 28*28).to(device)\n",
        "\n",
        "                outputs = model(images)\n",
        "\n",
        "                _, predicted = torch.max(outputs, 1)\n",
        "\n",
        "                total += labels.size(0)\n",
        "\n",
        "                if torch.cuda.is_available():\n",
        "                    correct += (predicted.cpu() == labels.cpu()).sum() \n",
        "                else:\n",
        "                    correct += (predicted == labels).sum()\n",
        "\n",
        "            accuracy = 100 * correct.item() / total\n",
        "\n",
        "            iteration_loss.append(loss.item())\n",
        "            print('Iteration: {}. Loss: {}. Accuracy: {}'.format(iter, loss.item(), accuracy))"
      ],
      "execution_count": null,
      "outputs": [
        {
          "output_type": "stream",
          "text": [
            "Epoch:  1\n",
            "Epoch:  2\n",
            "Epoch:  3\n",
            "Epoch:  4\n",
            "Epoch:  5\n",
            "Epoch:  6\n",
            "Epoch:  7\n",
            "Iteration: 500. Loss: 2.299757480621338. Accuracy: 9.467005076142131\n",
            "Epoch:  8\n",
            "Epoch:  9\n",
            "Epoch:  10\n",
            "Epoch:  11\n",
            "Epoch:  12\n",
            "Epoch:  13\n",
            "Iteration: 1000. Loss: 2.2685282230377197. Accuracy: 14.01015228426396\n",
            "Epoch:  14\n",
            "Epoch:  15\n",
            "Epoch:  16\n",
            "Epoch:  17\n",
            "Epoch:  18\n",
            "Epoch:  19\n",
            "Iteration: 1500. Loss: 2.2112205028533936. Accuracy: 9.796954314720812\n",
            "Epoch:  20\n",
            "Epoch:  21\n",
            "Epoch:  22\n",
            "Epoch:  23\n",
            "Epoch:  24\n",
            "Epoch:  25\n",
            "Epoch:  26\n",
            "Iteration: 2000. Loss: 2.3060638904571533. Accuracy: 10.076142131979696\n",
            "Epoch:  27\n",
            "Epoch:  28\n",
            "Epoch:  29\n",
            "Epoch:  30\n",
            "Epoch:  31\n",
            "Epoch:  32\n",
            "Iteration: 2500. Loss: 2.1571779251098633. Accuracy: 19.873096446700508\n",
            "Epoch:  33\n",
            "Epoch:  34\n",
            "Epoch:  35\n",
            "Epoch:  36\n",
            "Epoch:  37\n",
            "Epoch:  38\n",
            "Iteration: 3000. Loss: 2.1697914600372314. Accuracy: 15.456852791878173\n",
            "Epoch:  39\n",
            "Epoch:  40\n",
            "Epoch:  41\n",
            "Epoch:  42\n",
            "Epoch:  43\n",
            "Epoch:  44\n",
            "Epoch:  45\n",
            "Iteration: 3500. Loss: 2.298393964767456. Accuracy: 18.95939086294416\n",
            "Epoch:  46\n",
            "Epoch:  47\n",
            "Epoch:  48\n",
            "Epoch:  49\n",
            "Epoch:  50\n",
            "Epoch:  51\n",
            "Iteration: 4000. Loss: 2.0721054077148438. Accuracy: 26.548223350253807\n",
            "Epoch:  52\n",
            "Epoch:  53\n",
            "Epoch:  54\n",
            "Epoch:  55\n",
            "Epoch:  56\n",
            "Epoch:  57\n",
            "Iteration: 4500. Loss: 2.084294557571411. Accuracy: 14.49238578680203\n",
            "Epoch:  58\n",
            "Epoch:  59\n",
            "Epoch:  60\n",
            "Epoch:  61\n",
            "Epoch:  62\n",
            "Epoch:  63\n",
            "Epoch:  64\n",
            "Iteration: 5000. Loss: 1.9608110189437866. Accuracy: 28.426395939086294\n",
            "Epoch:  65\n",
            "Epoch:  66\n",
            "Epoch:  67\n",
            "Epoch:  68\n",
            "Epoch:  69\n",
            "Epoch:  70\n",
            "Iteration: 5500. Loss: 1.8520959615707397. Accuracy: 29.060913705583758\n",
            "Epoch:  71\n",
            "Epoch:  72\n",
            "Epoch:  73\n",
            "Epoch:  74\n",
            "Epoch:  75\n",
            "Epoch:  76\n",
            "Iteration: 6000. Loss: 1.9763089418411255. Accuracy: 34.16243654822335\n",
            "Epoch:  77\n",
            "Epoch:  78\n",
            "Epoch:  79\n",
            "Epoch:  80\n",
            "Epoch:  81\n",
            "Epoch:  82\n",
            "Epoch:  83\n",
            "Iteration: 6500. Loss: 2.3350048065185547. Accuracy: 27.614213197969544\n",
            "Epoch:  84\n",
            "Epoch:  85\n",
            "Epoch:  86\n",
            "Epoch:  87\n",
            "Epoch:  88\n",
            "Epoch:  89\n",
            "Iteration: 7000. Loss: 1.8245255947113037. Accuracy: 30.583756345177665\n",
            "Epoch:  90\n",
            "Epoch:  91\n",
            "Epoch:  92\n",
            "Epoch:  93\n",
            "Epoch:  94\n",
            "Epoch:  95\n",
            "Iteration: 7500. Loss: 1.85410475730896. Accuracy: 29.517766497461928\n",
            "Epoch:  96\n",
            "Epoch:  97\n",
            "Epoch:  98\n",
            "Epoch:  99\n",
            "Epoch:  100\n",
            "Epoch:  101\n",
            "Epoch:  102\n",
            "Iteration: 8000. Loss: 2.2502949237823486. Accuracy: 12.48730964467005\n",
            "Epoch:  103\n",
            "Epoch:  104\n",
            "Epoch:  105\n",
            "Epoch:  106\n",
            "Epoch:  107\n",
            "Epoch:  108\n",
            "Iteration: 8500. Loss: 1.6256568431854248. Accuracy: 48.3248730964467\n",
            "Epoch:  109\n",
            "Epoch:  110\n",
            "Epoch:  111\n",
            "Epoch:  112\n",
            "Epoch:  113\n",
            "Epoch:  114\n",
            "Iteration: 9000. Loss: 1.6455230712890625. Accuracy: 49.01015228426396\n",
            "Epoch:  115\n",
            "Epoch:  116\n",
            "Epoch:  117\n",
            "Epoch:  118\n",
            "Epoch:  119\n",
            "Epoch:  120\n",
            "Epoch:  121\n",
            "Iteration: 9500. Loss: 1.6957179307937622. Accuracy: 29.949238578680202\n",
            "Epoch:  122\n",
            "Epoch:  123\n",
            "Epoch:  124\n",
            "Epoch:  125\n",
            "Epoch:  126\n",
            "Epoch:  127\n",
            "Iteration: 10000. Loss: 2.300297498703003. Accuracy: 11.065989847715736\n",
            "Epoch:  128\n",
            "Epoch:  129\n",
            "Epoch:  130\n",
            "Epoch:  131\n",
            "Epoch:  132\n",
            "Epoch:  133\n",
            "Iteration: 10500. Loss: 2.086353302001953. Accuracy: 35.71065989847716\n",
            "Epoch:  134\n",
            "Epoch:  135\n",
            "Epoch:  136\n",
            "Epoch:  137\n",
            "Epoch:  138\n",
            "Epoch:  139\n",
            "Epoch:  140\n",
            "Iteration: 11000. Loss: 1.2548532485961914. Accuracy: 54.87309644670051\n",
            "Epoch:  141\n",
            "Epoch:  142\n",
            "Epoch:  143\n",
            "Epoch:  144\n",
            "Epoch:  145\n",
            "Epoch:  146\n",
            "Iteration: 11500. Loss: 1.7369967699050903. Accuracy: 49.13705583756345\n",
            "Epoch:  147\n",
            "Epoch:  148\n",
            "Epoch:  149\n",
            "Epoch:  150\n",
            "Epoch:  151\n",
            "Epoch:  152\n",
            "Iteration: 12000. Loss: 1.2703708410263062. Accuracy: 58.3248730964467\n",
            "Epoch:  153\n",
            "Epoch:  154\n",
            "Epoch:  155\n",
            "Epoch:  156\n",
            "Epoch:  157\n",
            "Epoch:  158\n",
            "Epoch:  159\n",
            "Iteration: 12500. Loss: 1.3537015914916992. Accuracy: 57.89340101522843\n",
            "Epoch:  160\n",
            "Epoch:  161\n",
            "Epoch:  162\n",
            "Epoch:  163\n",
            "Epoch:  164\n",
            "Epoch:  165\n",
            "Iteration: 13000. Loss: 1.7745147943496704. Accuracy: 18.223350253807105\n",
            "Epoch:  166\n",
            "Epoch:  167\n",
            "Epoch:  168\n",
            "Epoch:  169\n",
            "Epoch:  170\n",
            "Epoch:  171\n",
            "Iteration: 13500. Loss: 1.0263112783432007. Accuracy: 61.90355329949239\n",
            "Epoch:  172\n",
            "Epoch:  173\n",
            "Epoch:  174\n",
            "Epoch:  175\n",
            "Epoch:  176\n",
            "Epoch:  177\n",
            "Epoch:  178\n",
            "Iteration: 14000. Loss: 0.9048941135406494. Accuracy: 69.8984771573604\n",
            "Epoch:  179\n",
            "Epoch:  180\n",
            "Epoch:  181\n",
            "Epoch:  182\n",
            "Epoch:  183\n",
            "Epoch:  184\n",
            "Iteration: 14500. Loss: 1.0772883892059326. Accuracy: 64.9746192893401\n",
            "Epoch:  185\n",
            "Epoch:  186\n",
            "Epoch:  187\n",
            "Epoch:  188\n",
            "Epoch:  189\n",
            "Epoch:  190\n",
            "Iteration: 15000. Loss: 0.8012681007385254. Accuracy: 68.60406091370558\n",
            "Epoch:  191\n",
            "Epoch:  192\n",
            "Epoch:  193\n",
            "Epoch:  194\n",
            "Epoch:  195\n",
            "Epoch:  196\n",
            "Epoch:  197\n",
            "Iteration: 15500. Loss: 1.1409642696380615. Accuracy: 64.64467005076142\n",
            "Epoch:  198\n",
            "Epoch:  199\n",
            "Epoch:  200\n",
            "Epoch:  201\n",
            "Epoch:  202\n",
            "Epoch:  203\n",
            "Iteration: 16000. Loss: 0.9468228220939636. Accuracy: 69.28934010152284\n"
          ],
          "name": "stdout"
        }
      ]
    },
    {
      "cell_type": "code",
      "metadata": {
        "id": "OjIUkU9SGXZX"
      },
      "source": [
        "torch.save(model.state_dict(), '/content/drive/MyDrive/CSE4238/Offline 2/Models/model_1.pkl')"
      ],
      "execution_count": null,
      "outputs": []
    },
    {
      "cell_type": "code",
      "metadata": {
        "colab": {
          "base_uri": "https://localhost:8080/",
          "height": 319
        },
        "id": "ST12SsgJGewh",
        "outputId": "b69caeaf-cbac-49e1-ec05-31e4f240eb98"
      },
      "source": [
        "print (iteration_loss)\n",
        "plt.plot(iteration_loss)\n",
        "plt.ylabel('Loss')\n",
        "plt.xlabel('Iteration')\n",
        "plt.show()"
      ],
      "execution_count": null,
      "outputs": [
        {
          "output_type": "stream",
          "text": [
            "[2.299757480621338, 2.2685282230377197, 2.2112205028533936, 2.3060638904571533, 2.1571779251098633, 2.1697914600372314, 2.298393964767456, 2.0721054077148438, 2.084294557571411, 1.9608110189437866, 1.8520959615707397, 1.9763089418411255, 2.3350048065185547, 1.8245255947113037, 1.85410475730896, 2.2502949237823486, 1.6256568431854248, 1.6455230712890625, 1.6957179307937622, 2.300297498703003, 2.086353302001953, 1.2548532485961914, 1.7369967699050903, 1.2703708410263062, 1.3537015914916992, 1.7745147943496704, 1.0263112783432007, 0.9048941135406494, 1.0772883892059326, 0.8012681007385254, 1.1409642696380615, 0.9468228220939636]\n"
          ],
          "name": "stdout"
        },
        {
          "output_type": "display_data",
          "data": {
            "image/png": "[encoded data removed]",
            "text/plain": [
              "<Figure size 432x288 with 1 Axes>"
            ]
          },
          "metadata": {
            "needs_background": "light"
          }
        }
      ]
    },
    {
      "cell_type": "markdown",
      "metadata": {
        "id": "DVvV0oHrGmsI"
      },
      "source": [
        "# **Tuned Parameters: 02**"
      ]
    },
    {
      "cell_type": "code",
      "metadata": {
        "colab": {
          "base_uri": "https://localhost:8080/"
        },
        "id": "7m52rkpZGqyE",
        "outputId": "564fed98-97e5-41f4-9523-957d0f6bee9a"
      },
      "source": [
        "batch_size = 250\n",
        "num_iters = 24000\n",
        "input_dim = 28*28\n",
        "num_hidden = 532\n",
        "output_dim = 10\n",
        "\n",
        "learning_rate = 0.01\n",
        "\n",
        "num_epochs = num_iters / (len(train_data) / batch_size)\n",
        "num_epochs = int(num_epochs)\n",
        "print(num_epochs)\n",
        "\n",
        "device = torch.device(\"cuda:0\" if torch.cuda.is_available() else \"cpu\")"
      ],
      "execution_count": null,
      "outputs": [
        {
          "output_type": "stream",
          "text": [
            "304\n"
          ],
          "name": "stdout"
        }
      ]
    },
    {
      "cell_type": "code",
      "metadata": {
        "colab": {
          "base_uri": "https://localhost:8080/"
        },
        "id": "GSWorqaMG11O",
        "outputId": "9a18f479-acb0-4f93-cbc5-7e85262e8939"
      },
      "source": [
        "test_size = 0.2\n",
        "num_train = len(train_data)\n",
        "indices = list(range(num_train))\n",
        "np.random.shuffle(indices)\n",
        "split = int(np.floor(test_size * num_train))\n",
        "train_idx, test_idx = indices[split:], indices[:split]\n",
        "\n",
        "train_sampler = SubsetRandomSampler(train_idx)\n",
        "test_sampler = SubsetRandomSampler(test_idx)\n",
        "\n",
        "train_loader = torch.utils.data.DataLoader(\n",
        "    train_data, batch_size=batch_size,\n",
        "    sampler=train_sampler)\n",
        "\n",
        "test_loader = torch.utils.data.DataLoader(\n",
        "    test_data, batch_size=batch_size,\n",
        "    sampler=test_sampler)\n",
        "\n",
        "print(\"Train dataloader:{}\".format(len(train_loader)))\n",
        "print(\"Test dataloader:{}\".format(len(test_loader)))"
      ],
      "execution_count": null,
      "outputs": [
        {
          "output_type": "stream",
          "text": [
            "Train dataloader:64\n",
            "Test dataloader:16\n"
          ],
          "name": "stdout"
        }
      ]
    },
    {
      "cell_type": "code",
      "metadata": {
        "id": "1OxJRRXNG_pZ"
      },
      "source": [
        "class DeepNeuralNetworkModel(nn.Module):\n",
        "    def __init__(self, input_size, num_classes, num_hidden):\n",
        "        super().__init__()\n",
        "       \n",
        "        self.linear_1 = nn.Linear(input_size, num_hidden)\n",
        "        self.relu_1 = nn.ReLU()\n",
        " \n",
        "        self.linear_2 = nn.Linear(num_hidden, num_hidden)\n",
        "        self.relu_2 = nn.ReLU()\n",
        " \n",
        "        self.linear_3 = nn.Linear(num_hidden, num_hidden)\n",
        "        self.relu_3 = nn.ReLU()\n",
        " \n",
        "        self.linear_4 = nn.Linear(num_hidden, num_hidden)\n",
        "        self.relu_4 = nn.ReLU()\n",
        " \n",
        "        self.linear_5= nn.Linear(num_hidden, num_hidden)\n",
        "        self.relu_5= nn.ReLU()\n",
        " \n",
        "        self.linear_6 = nn.Linear(num_hidden, num_hidden)\n",
        "        self.relu_6 = nn.ReLU()\n",
        " \n",
        "        self.linear_out = nn.Linear(num_hidden, num_classes)\n",
        " \n",
        "    def forward(self, x):\n",
        "        out  = self.linear_1(x)\n",
        "        out = self.relu_1(out)\n",
        "        \n",
        "        out  = self.linear_2(out)\n",
        "        out = self.relu_2(out)\n",
        " \n",
        "        out  = self.linear_3(out)\n",
        "        out = self.relu_3(out)\n",
        " \n",
        "        out  = self.linear_4(out)\n",
        "        out = self.relu_4(out)\n",
        " \n",
        "        out  = self.linear_5(out)\n",
        "        out = self.relu_5(out)\n",
        " \n",
        "        out  = self.linear_6(out)\n",
        "        out = self.relu_6(out)\n",
        "        \n",
        "        probas  = self.linear_out(out)\n",
        "        return probas"
      ],
      "execution_count": null,
      "outputs": []
    },
    {
      "cell_type": "code",
      "metadata": {
        "colab": {
          "base_uri": "https://localhost:8080/"
        },
        "id": "kYwEVVDCHEGo",
        "outputId": "a5ae1c30-ab6c-4eab-a6eb-010839cd6d21"
      },
      "source": [
        "model = DeepNeuralNetworkModel(input_size = input_dim, num_classes = output_dim, num_hidden = num_hidden)\n",
        "\n",
        "model.to(device)"
      ],
      "execution_count": null,
      "outputs": [
        {
          "output_type": "execute_result",
          "data": {
            "text/plain": [
              "DeepNeuralNetworkModel(\n",
              "  (linear_1): Linear(in_features=784, out_features=532, bias=True)\n",
              "  (relu_1): ReLU()\n",
              "  (linear_2): Linear(in_features=532, out_features=532, bias=True)\n",
              "  (relu_2): ReLU()\n",
              "  (linear_3): Linear(in_features=532, out_features=532, bias=True)\n",
              "  (relu_3): ReLU()\n",
              "  (linear_4): Linear(in_features=532, out_features=532, bias=True)\n",
              "  (relu_4): ReLU()\n",
              "  (linear_5): Linear(in_features=532, out_features=532, bias=True)\n",
              "  (relu_5): ReLU()\n",
              "  (linear_6): Linear(in_features=532, out_features=532, bias=True)\n",
              "  (relu_6): ReLU()\n",
              "  (linear_out): Linear(in_features=532, out_features=10, bias=True)\n",
              ")"
            ]
          },
          "metadata": {},
          "execution_count": 12
        }
      ]
    },
    {
      "cell_type": "code",
      "metadata": {
        "id": "j1tiYQLHHKgy"
      },
      "source": [
        "criterion = nn.CrossEntropyLoss()\n",
        "optimizer = torch.optim.SGD(model.parameters(), lr = learning_rate)"
      ],
      "execution_count": null,
      "outputs": []
    },
    {
      "cell_type": "code",
      "metadata": {
        "colab": {
          "base_uri": "https://localhost:8080/"
        },
        "id": "oLGcs_usHMCu",
        "outputId": "d51b24dc-c2af-4aca-b407-e5b427fc9e84"
      },
      "source": [
        "iteration_loss = []\n",
        "iter = 0\n",
        "for epoch in range(num_epochs):\n",
        "    print('Epoch: ', epoch + 1)\n",
        "    for i, (images, labels) in enumerate(train_loader):\n",
        "\n",
        "        images = images.view(-1, 28*28).to(device)\n",
        "        labels = labels.to(device)\n",
        "\n",
        "        optimizer.zero_grad()\n",
        "\n",
        "        outputs = model(images) \n",
        "\n",
        "        loss = criterion(outputs, labels)\n",
        "\n",
        "        loss.backward()\n",
        "\n",
        "        optimizer.step()\n",
        "\n",
        "        iter += 1\n",
        "\n",
        "        if iter % 500 == 0:        \n",
        "            correct = 0\n",
        "            total = 0\n",
        "            for images, labels in test_loader:\n",
        "               \n",
        "                images = images.view(-1, 28*28).to(device)\n",
        "\n",
        "                outputs = model(images)\n",
        "\n",
        "                _, predicted = torch.max(outputs, 1)\n",
        "\n",
        "                total += labels.size(0)\n",
        "\n",
        "                if torch.cuda.is_available():\n",
        "                    correct += (predicted.cpu() == labels.cpu()).sum() \n",
        "                else:\n",
        "                    correct += (predicted == labels).sum()\n",
        "\n",
        "            accuracy = 100 * correct.item() / total\n",
        "\n",
        "            iteration_loss.append(loss.item())\n",
        "            print('Iteration: {}. Loss: {}. Accuracy: {}'.format(iter, loss.item(), accuracy))"
      ],
      "execution_count": null,
      "outputs": [
        {
          "output_type": "stream",
          "text": [
            "Epoch:  1\n",
            "Epoch:  2\n",
            "Epoch:  3\n",
            "Epoch:  4\n",
            "Epoch:  5\n",
            "Epoch:  6\n",
            "Epoch:  7\n",
            "Epoch:  8\n",
            "Iteration: 500. Loss: 2.302417516708374. Accuracy: 10.152284263959391\n",
            "Epoch:  9\n",
            "Epoch:  10\n",
            "Epoch:  11\n",
            "Epoch:  12\n",
            "Epoch:  13\n",
            "Epoch:  14\n",
            "Epoch:  15\n",
            "Epoch:  16\n",
            "Iteration: 1000. Loss: 2.3020718097686768. Accuracy: 11.852791878172589\n",
            "Epoch:  17\n",
            "Epoch:  18\n",
            "Epoch:  19\n",
            "Epoch:  20\n",
            "Epoch:  21\n",
            "Epoch:  22\n",
            "Epoch:  23\n",
            "Epoch:  24\n",
            "Iteration: 1500. Loss: 2.3030765056610107. Accuracy: 13.096446700507615\n",
            "Epoch:  25\n",
            "Epoch:  26\n",
            "Epoch:  27\n",
            "Epoch:  28\n",
            "Epoch:  29\n",
            "Epoch:  30\n",
            "Epoch:  31\n",
            "Epoch:  32\n",
            "Iteration: 2000. Loss: 2.3027470111846924. Accuracy: 9.593908629441625\n",
            "Epoch:  33\n",
            "Epoch:  34\n",
            "Epoch:  35\n",
            "Epoch:  36\n",
            "Epoch:  37\n",
            "Epoch:  38\n",
            "Epoch:  39\n",
            "Epoch:  40\n",
            "Iteration: 2500. Loss: 2.301628589630127. Accuracy: 9.593908629441625\n",
            "Epoch:  41\n",
            "Epoch:  42\n",
            "Epoch:  43\n",
            "Epoch:  44\n",
            "Epoch:  45\n",
            "Epoch:  46\n",
            "Epoch:  47\n",
            "Iteration: 3000. Loss: 2.301098585128784. Accuracy: 9.593908629441625\n",
            "Epoch:  48\n",
            "Epoch:  49\n",
            "Epoch:  50\n",
            "Epoch:  51\n",
            "Epoch:  52\n",
            "Epoch:  53\n",
            "Epoch:  54\n",
            "Epoch:  55\n",
            "Iteration: 3500. Loss: 2.301003932952881. Accuracy: 9.593908629441625\n",
            "Epoch:  56\n",
            "Epoch:  57\n",
            "Epoch:  58\n",
            "Epoch:  59\n",
            "Epoch:  60\n",
            "Epoch:  61\n",
            "Epoch:  62\n",
            "Epoch:  63\n",
            "Iteration: 4000. Loss: 2.3009259700775146. Accuracy: 9.593908629441625\n",
            "Epoch:  64\n",
            "Epoch:  65\n",
            "Epoch:  66\n",
            "Epoch:  67\n",
            "Epoch:  68\n",
            "Epoch:  69\n",
            "Epoch:  70\n",
            "Epoch:  71\n",
            "Iteration: 4500. Loss: 2.3027100563049316. Accuracy: 9.720812182741117\n",
            "Epoch:  72\n",
            "Epoch:  73\n",
            "Epoch:  74\n",
            "Epoch:  75\n",
            "Epoch:  76\n",
            "Epoch:  77\n",
            "Epoch:  78\n",
            "Epoch:  79\n",
            "Iteration: 5000. Loss: 2.302433729171753. Accuracy: 9.593908629441625\n",
            "Epoch:  80\n",
            "Epoch:  81\n",
            "Epoch:  82\n",
            "Epoch:  83\n",
            "Epoch:  84\n",
            "Epoch:  85\n",
            "Epoch:  86\n",
            "Iteration: 5500. Loss: 2.3006064891815186. Accuracy: 15.152284263959391\n",
            "Epoch:  87\n",
            "Epoch:  88\n",
            "Epoch:  89\n",
            "Epoch:  90\n",
            "Epoch:  91\n",
            "Epoch:  92\n",
            "Epoch:  93\n",
            "Epoch:  94\n",
            "Iteration: 6000. Loss: 2.2998604774475098. Accuracy: 10.964467005076141\n",
            "Epoch:  95\n",
            "Epoch:  96\n",
            "Epoch:  97\n",
            "Epoch:  98\n",
            "Epoch:  99\n",
            "Epoch:  100\n",
            "Epoch:  101\n",
            "Epoch:  102\n",
            "Iteration: 6500. Loss: 2.29842209815979. Accuracy: 19.492385786802032\n",
            "Epoch:  103\n",
            "Epoch:  104\n",
            "Epoch:  105\n",
            "Epoch:  106\n",
            "Epoch:  107\n",
            "Epoch:  108\n",
            "Epoch:  109\n",
            "Epoch:  110\n",
            "Iteration: 7000. Loss: 2.298219680786133. Accuracy: 19.34010152284264\n",
            "Epoch:  111\n",
            "Epoch:  112\n",
            "Epoch:  113\n",
            "Epoch:  114\n",
            "Epoch:  115\n",
            "Epoch:  116\n",
            "Epoch:  117\n",
            "Epoch:  118\n",
            "Iteration: 7500. Loss: 2.2969324588775635. Accuracy: 13.50253807106599\n",
            "Epoch:  119\n",
            "Epoch:  120\n",
            "Epoch:  121\n",
            "Epoch:  122\n",
            "Epoch:  123\n",
            "Epoch:  124\n",
            "Epoch:  125\n",
            "Iteration: 8000. Loss: 2.300503730773926. Accuracy: 18.98477157360406\n",
            "Epoch:  126\n",
            "Epoch:  127\n",
            "Epoch:  128\n",
            "Epoch:  129\n",
            "Epoch:  130\n",
            "Epoch:  131\n",
            "Epoch:  132\n",
            "Epoch:  133\n",
            "Iteration: 8500. Loss: 2.2940900325775146. Accuracy: 18.02030456852792\n",
            "Epoch:  134\n",
            "Epoch:  135\n",
            "Epoch:  136\n",
            "Epoch:  137\n",
            "Epoch:  138\n",
            "Epoch:  139\n",
            "Epoch:  140\n",
            "Epoch:  141\n",
            "Iteration: 9000. Loss: 2.292847156524658. Accuracy: 19.695431472081218\n",
            "Epoch:  142\n",
            "Epoch:  143\n",
            "Epoch:  144\n",
            "Epoch:  145\n",
            "Epoch:  146\n",
            "Epoch:  147\n",
            "Epoch:  148\n",
            "Epoch:  149\n",
            "Iteration: 9500. Loss: 2.2847673892974854. Accuracy: 18.096446700507613\n",
            "Epoch:  150\n",
            "Epoch:  151\n",
            "Epoch:  152\n",
            "Epoch:  153\n",
            "Epoch:  154\n",
            "Epoch:  155\n",
            "Epoch:  156\n",
            "Epoch:  157\n",
            "Iteration: 10000. Loss: 2.2709269523620605. Accuracy: 22.715736040609137\n",
            "Epoch:  158\n",
            "Epoch:  159\n",
            "Epoch:  160\n",
            "Epoch:  161\n",
            "Epoch:  162\n",
            "Epoch:  163\n",
            "Epoch:  164\n",
            "Epoch:  165\n",
            "Iteration: 10500. Loss: 2.2553486824035645. Accuracy: 19.34010152284264\n",
            "Epoch:  166\n",
            "Epoch:  167\n",
            "Epoch:  168\n",
            "Epoch:  169\n",
            "Epoch:  170\n",
            "Epoch:  171\n",
            "Epoch:  172\n",
            "Iteration: 11000. Loss: 2.196624279022217. Accuracy: 18.705583756345177\n",
            "Epoch:  173\n",
            "Epoch:  174\n",
            "Epoch:  175\n",
            "Epoch:  176\n",
            "Epoch:  177\n",
            "Epoch:  178\n",
            "Epoch:  179\n",
            "Epoch:  180\n",
            "Iteration: 11500. Loss: 2.1967430114746094. Accuracy: 14.543147208121827\n",
            "Epoch:  181\n",
            "Epoch:  182\n",
            "Epoch:  183\n",
            "Epoch:  184\n",
            "Epoch:  185\n",
            "Epoch:  186\n",
            "Epoch:  187\n",
            "Epoch:  188\n",
            "Iteration: 12000. Loss: 2.1292922496795654. Accuracy: 15.98984771573604\n",
            "Epoch:  189\n",
            "Epoch:  190\n",
            "Epoch:  191\n",
            "Epoch:  192\n",
            "Epoch:  193\n",
            "Epoch:  194\n",
            "Epoch:  195\n",
            "Epoch:  196\n",
            "Iteration: 12500. Loss: 2.0971946716308594. Accuracy: 12.563451776649746\n",
            "Epoch:  197\n",
            "Epoch:  198\n",
            "Epoch:  199\n",
            "Epoch:  200\n",
            "Epoch:  201\n",
            "Epoch:  202\n",
            "Epoch:  203\n",
            "Epoch:  204\n",
            "Iteration: 13000. Loss: 1.9804316759109497. Accuracy: 22.690355329949238\n",
            "Epoch:  205\n",
            "Epoch:  206\n",
            "Epoch:  207\n",
            "Epoch:  208\n",
            "Epoch:  209\n",
            "Epoch:  210\n",
            "Epoch:  211\n",
            "Iteration: 13500. Loss: 2.0514464378356934. Accuracy: 18.705583756345177\n",
            "Epoch:  212\n",
            "Epoch:  213\n",
            "Epoch:  214\n",
            "Epoch:  215\n",
            "Epoch:  216\n",
            "Epoch:  217\n",
            "Epoch:  218\n",
            "Epoch:  219\n",
            "Iteration: 14000. Loss: 1.9430832862854004. Accuracy: 21.6751269035533\n",
            "Epoch:  220\n",
            "Epoch:  221\n",
            "Epoch:  222\n",
            "Epoch:  223\n",
            "Epoch:  224\n",
            "Epoch:  225\n",
            "Epoch:  226\n",
            "Epoch:  227\n",
            "Iteration: 14500. Loss: 2.057790517807007. Accuracy: 12.893401015228426\n",
            "Epoch:  228\n",
            "Epoch:  229\n",
            "Epoch:  230\n",
            "Epoch:  231\n",
            "Epoch:  232\n",
            "Epoch:  233\n",
            "Epoch:  234\n",
            "Epoch:  235\n",
            "Iteration: 15000. Loss: 2.0027382373809814. Accuracy: 25.736040609137056\n",
            "Epoch:  236\n",
            "Epoch:  237\n",
            "Epoch:  238\n",
            "Epoch:  239\n",
            "Epoch:  240\n",
            "Epoch:  241\n",
            "Epoch:  242\n",
            "Epoch:  243\n",
            "Iteration: 15500. Loss: 2.033602714538574. Accuracy: 19.949238578680202\n",
            "Epoch:  244\n",
            "Epoch:  245\n",
            "Epoch:  246\n",
            "Epoch:  247\n",
            "Epoch:  248\n",
            "Epoch:  249\n",
            "Epoch:  250\n",
            "Iteration: 16000. Loss: 2.0060126781463623. Accuracy: 14.923857868020304\n",
            "Epoch:  251\n",
            "Epoch:  252\n",
            "Epoch:  253\n",
            "Epoch:  254\n",
            "Epoch:  255\n",
            "Epoch:  256\n",
            "Epoch:  257\n",
            "Epoch:  258\n",
            "Iteration: 16500. Loss: 2.0668206214904785. Accuracy: 11.218274111675127\n",
            "Epoch:  259\n",
            "Epoch:  260\n",
            "Epoch:  261\n",
            "Epoch:  262\n",
            "Epoch:  263\n",
            "Epoch:  264\n",
            "Epoch:  265\n",
            "Epoch:  266\n",
            "Iteration: 17000. Loss: 2.0471787452697754. Accuracy: 12.66497461928934\n",
            "Epoch:  267\n",
            "Epoch:  268\n",
            "Epoch:  269\n",
            "Epoch:  270\n",
            "Epoch:  271\n",
            "Epoch:  272\n",
            "Epoch:  273\n",
            "Epoch:  274\n",
            "Iteration: 17500. Loss: 2.0606908798217773. Accuracy: 10.812182741116752\n",
            "Epoch:  275\n",
            "Epoch:  276\n",
            "Epoch:  277\n",
            "Epoch:  278\n",
            "Epoch:  279\n",
            "Epoch:  280\n",
            "Epoch:  281\n",
            "Epoch:  282\n",
            "Iteration: 18000. Loss: 2.0732436180114746. Accuracy: 18.274111675126903\n",
            "Epoch:  283\n",
            "Epoch:  284\n",
            "Epoch:  285\n",
            "Epoch:  286\n",
            "Epoch:  287\n",
            "Epoch:  288\n",
            "Epoch:  289\n",
            "Epoch:  290\n",
            "Iteration: 18500. Loss: 1.940060019493103. Accuracy: 18.934010152284262\n",
            "Epoch:  291\n",
            "Epoch:  292\n",
            "Epoch:  293\n",
            "Epoch:  294\n",
            "Epoch:  295\n",
            "Epoch:  296\n",
            "Epoch:  297\n",
            "Iteration: 19000. Loss: 1.8037245273590088. Accuracy: 30.35532994923858\n",
            "Epoch:  298\n",
            "Epoch:  299\n",
            "Epoch:  300\n",
            "Epoch:  301\n",
            "Epoch:  302\n",
            "Epoch:  303\n",
            "Epoch:  304\n"
          ],
          "name": "stdout"
        }
      ]
    },
    {
      "cell_type": "code",
      "metadata": {
        "id": "W4CNFz6SZYp5"
      },
      "source": [
        "torch.save(model.state_dict(), '/content/drive/MyDrive/CSE4238/Offline 2/Models/model_2.pkl')"
      ],
      "execution_count": null,
      "outputs": []
    },
    {
      "cell_type": "code",
      "metadata": {
        "colab": {
          "base_uri": "https://localhost:8080/",
          "height": 316
        },
        "id": "pEnaWlB7Zhcc",
        "outputId": "39e6e811-d0ef-4400-8166-9355b2b5875c"
      },
      "source": [
        "print (iteration_loss)\n",
        "plt.plot(iteration_loss)\n",
        "plt.ylabel('Loss')\n",
        "plt.xlabel('Iteration')\n",
        "plt.show()"
      ],
      "execution_count": null,
      "outputs": [
        {
          "output_type": "stream",
          "text": [
            "[2.302417516708374, 2.3020718097686768, 2.3030765056610107, 2.3027470111846924, 2.301628589630127, 2.301098585128784, 2.301003932952881, 2.3009259700775146, 2.3027100563049316, 2.302433729171753, 2.3006064891815186, 2.2998604774475098, 2.29842209815979, 2.298219680786133, 2.2969324588775635, 2.300503730773926, 2.2940900325775146, 2.292847156524658, 2.2847673892974854, 2.2709269523620605, 2.2553486824035645, 2.196624279022217, 2.1967430114746094, 2.1292922496795654, 2.0971946716308594, 1.9804316759109497, 2.0514464378356934, 1.9430832862854004, 2.057790517807007, 2.0027382373809814, 2.033602714538574, 2.0060126781463623, 2.0668206214904785, 2.0471787452697754, 2.0606908798217773, 2.0732436180114746, 1.940060019493103, 1.8037245273590088]\n"
          ],
          "name": "stdout"
        },
        {
          "output_type": "display_data",
          "data": {
            "image/png": "[encoded data removed]",
            "text/plain": [
              "<Figure size 432x288 with 1 Axes>"
            ]
          },
          "metadata": {
            "needs_background": "light"
          }
        }
      ]
    },
    {
      "cell_type": "markdown",
      "metadata": {
        "id": "-SN6AMavdGRX"
      },
      "source": [
        "# **Tuned Parameters: 3**"
      ]
    },
    {
      "cell_type": "code",
      "metadata": {
        "colab": {
          "base_uri": "https://localhost:8080/"
        },
        "id": "rnBPaYJidBLI",
        "outputId": "1f25edaa-9419-41ce-819a-388c210c43ed"
      },
      "source": [
        "batch_size = 250\n",
        "num_iters = 20000\n",
        "input_dim = 28*28\n",
        "num_hidden = 250\n",
        "output_dim = 10\n",
        "\n",
        "learning_rate = 0.001\n",
        "\n",
        "num_epochs = num_iters / (len(train_data) / batch_size)\n",
        "num_epochs = int(num_epochs)\n",
        "print(num_epochs)\n",
        "\n",
        "device = torch.device(\"cuda:0\" if torch.cuda.is_available() else \"cpu\")"
      ],
      "execution_count": null,
      "outputs": [
        {
          "output_type": "stream",
          "name": "stdout",
          "text": [
            "253\n"
          ]
        }
      ]
    },
    {
      "cell_type": "code",
      "metadata": {
        "colab": {
          "base_uri": "https://localhost:8080/"
        },
        "id": "TP1xM_xadgQU",
        "outputId": "3ba64753-2ed5-4e75-a51e-6a9b0ef1e180"
      },
      "source": [
        "test_size = 0.2\n",
        "num_train = len(train_data)\n",
        "indices = list(range(num_train))\n",
        "np.random.shuffle(indices)\n",
        "split = int(np.floor(test_size * num_train))\n",
        "train_idx, test_idx = indices[split:], indices[:split]\n",
        "\n",
        "train_sampler = SubsetRandomSampler(train_idx)\n",
        "test_sampler = SubsetRandomSampler(test_idx)\n",
        "\n",
        "train_loader = torch.utils.data.DataLoader(\n",
        "    train_data, batch_size=batch_size,\n",
        "    sampler=train_sampler)\n",
        "\n",
        "test_loader = torch.utils.data.DataLoader(\n",
        "    test_data, batch_size=batch_size,\n",
        "    sampler=test_sampler)\n",
        "\n",
        "print(\"Train dataloader:{}\".format(len(train_loader)))\n",
        "print(\"Test dataloader:{}\".format(len(test_loader)))"
      ],
      "execution_count": null,
      "outputs": [
        {
          "output_type": "stream",
          "name": "stdout",
          "text": [
            "Train dataloader:64\n",
            "Test dataloader:16\n"
          ]
        }
      ]
    },
    {
      "cell_type": "code",
      "metadata": {
        "id": "zso3DhpfdnjP"
      },
      "source": [
        "class DeepNeuralNetworkModel(nn.Module):\n",
        "    def __init__(self, input_size, num_classes, num_hidden):\n",
        "        super().__init__()\n",
        "       \n",
        "        self.linear_1 = nn.Linear(input_size, num_hidden)\n",
        "        self.relu_1 = nn.ReLU()\n",
        " \n",
        "        self.linear_2 = nn.Linear(num_hidden, num_hidden)\n",
        "        self.relu_2 = nn.ReLU()\n",
        " \n",
        "        self.linear_3 = nn.Linear(num_hidden, num_hidden)\n",
        "        self.relu_3 = nn.ReLU()\n",
        " \n",
        "        self.linear_4 = nn.Linear(num_hidden, num_hidden)\n",
        "        self.relu_4 = nn.ReLU()\n",
        " \n",
        "        self.linear_5= nn.Linear(num_hidden, num_hidden)\n",
        "        self.relu_5= nn.ReLU()\n",
        " \n",
        "        self.linear_6 = nn.Linear(num_hidden, num_hidden)\n",
        "        self.relu_6 = nn.ReLU()\n",
        " \n",
        "        self.linear_out = nn.Linear(num_hidden, num_classes)\n",
        " \n",
        "    def forward(self, x):\n",
        "        out  = self.linear_1(x)\n",
        "        out = self.relu_1(out)\n",
        "        \n",
        "        out  = self.linear_2(out)\n",
        "        out = self.relu_2(out)\n",
        " \n",
        "        out  = self.linear_3(out)\n",
        "        out = self.relu_3(out)\n",
        " \n",
        "        out  = self.linear_4(out)\n",
        "        out = self.relu_4(out)\n",
        " \n",
        "        out  = self.linear_5(out)\n",
        "        out = self.relu_5(out)\n",
        " \n",
        "        out  = self.linear_6(out)\n",
        "        out = self.relu_6(out)\n",
        "        \n",
        "        probas  = self.linear_out(out)\n",
        "        return probas"
      ],
      "execution_count": null,
      "outputs": []
    },
    {
      "cell_type": "code",
      "metadata": {
        "colab": {
          "base_uri": "https://localhost:8080/"
        },
        "id": "pbYg-0ladtAW",
        "outputId": "447f5a01-7f2d-4a17-a0c2-2dbe13164d0e"
      },
      "source": [
        "model = DeepNeuralNetworkModel(input_size = input_dim, num_classes = output_dim, num_hidden = num_hidden)\n",
        "\n",
        "model.to(device)"
      ],
      "execution_count": null,
      "outputs": [
        {
          "output_type": "execute_result",
          "data": {
            "text/plain": [
              "DeepNeuralNetworkModel(\n",
              "  (linear_1): Linear(in_features=784, out_features=250, bias=True)\n",
              "  (relu_1): ReLU()\n",
              "  (linear_2): Linear(in_features=250, out_features=250, bias=True)\n",
              "  (relu_2): ReLU()\n",
              "  (linear_3): Linear(in_features=250, out_features=250, bias=True)\n",
              "  (relu_3): ReLU()\n",
              "  (linear_4): Linear(in_features=250, out_features=250, bias=True)\n",
              "  (relu_4): ReLU()\n",
              "  (linear_5): Linear(in_features=250, out_features=250, bias=True)\n",
              "  (relu_5): ReLU()\n",
              "  (linear_6): Linear(in_features=250, out_features=250, bias=True)\n",
              "  (relu_6): ReLU()\n",
              "  (linear_out): Linear(in_features=250, out_features=10, bias=True)\n",
              ")"
            ]
          },
          "metadata": {},
          "execution_count": 12
        }
      ]
    },
    {
      "cell_type": "code",
      "metadata": {
        "id": "HBZ2RL1Kd3qi"
      },
      "source": [
        "criterion = nn.CrossEntropyLoss()\n",
        "optimizer = torch.optim.Adam(model.parameters(), lr = learning_rate)"
      ],
      "execution_count": null,
      "outputs": []
    },
    {
      "cell_type": "code",
      "metadata": {
        "colab": {
          "base_uri": "https://localhost:8080/"
        },
        "id": "xpR3WHz0d9X7",
        "outputId": "de7c5494-3333-487e-c4ce-40ca807fce14"
      },
      "source": [
        "iteration_loss = []\n",
        "iter = 0\n",
        "for epoch in range(num_epochs):\n",
        "    print('Epoch: ', epoch + 1)\n",
        "    for i, (images, labels) in enumerate(train_loader):\n",
        "\n",
        "        images = images.view(-1, 28*28).to(device)\n",
        "        labels = labels.to(device)\n",
        "\n",
        "        optimizer.zero_grad()\n",
        "\n",
        "        outputs = model(images) \n",
        "\n",
        "        loss = criterion(outputs, labels)\n",
        "\n",
        "        loss.backward()\n",
        "\n",
        "        optimizer.step()\n",
        "\n",
        "        iter += 1\n",
        "\n",
        "        if iter % 500 == 0:        \n",
        "            correct = 0\n",
        "            total = 0\n",
        "            for images, labels in test_loader:\n",
        "               \n",
        "                images = images.view(-1, 28*28).to(device)\n",
        "\n",
        "                outputs = model(images)\n",
        "\n",
        "                _, predicted = torch.max(outputs, 1)\n",
        "\n",
        "                total += labels.size(0)\n",
        "\n",
        "                if torch.cuda.is_available():\n",
        "                    correct += (predicted.cpu() == labels.cpu()).sum() \n",
        "                else:\n",
        "                    correct += (predicted == labels).sum()\n",
        "\n",
        "            accuracy = 100 * correct.item() / total\n",
        "\n",
        "            iteration_loss.append(loss.item())\n",
        "            print('Iteration: {}. Loss: {}. Accuracy: {}'.format(iter, loss.item(), accuracy))"
      ],
      "execution_count": null,
      "outputs": [
        {
          "output_type": "stream",
          "name": "stdout",
          "text": [
            "Epoch:  1\n",
            "Epoch:  2\n",
            "Epoch:  3\n",
            "Epoch:  4\n",
            "Epoch:  5\n",
            "Epoch:  6\n",
            "Epoch:  7\n",
            "Epoch:  8\n",
            "Iteration: 500. Loss: 1.8042632341384888. Accuracy: 22.741116751269036\n",
            "Epoch:  9\n",
            "Epoch:  10\n",
            "Epoch:  11\n",
            "Epoch:  12\n",
            "Epoch:  13\n",
            "Epoch:  14\n",
            "Epoch:  15\n",
            "Epoch:  16\n",
            "Iteration: 1000. Loss: 1.6223139762878418. Accuracy: 26.243654822335024\n",
            "Epoch:  17\n",
            "Epoch:  18\n",
            "Epoch:  19\n",
            "Epoch:  20\n",
            "Epoch:  21\n",
            "Epoch:  22\n",
            "Epoch:  23\n",
            "Epoch:  24\n",
            "Iteration: 1500. Loss: 1.6261943578720093. Accuracy: 33.2994923857868\n",
            "Epoch:  25\n",
            "Epoch:  26\n",
            "Epoch:  27\n",
            "Epoch:  28\n",
            "Epoch:  29\n",
            "Epoch:  30\n",
            "Epoch:  31\n",
            "Epoch:  32\n",
            "Iteration: 2000. Loss: 1.583701491355896. Accuracy: 30.0\n",
            "Epoch:  33\n",
            "Epoch:  34\n",
            "Epoch:  35\n",
            "Epoch:  36\n",
            "Epoch:  37\n",
            "Epoch:  38\n",
            "Epoch:  39\n",
            "Epoch:  40\n",
            "Iteration: 2500. Loss: 2.3370230197906494. Accuracy: 32.20812182741117\n",
            "Epoch:  41\n",
            "Epoch:  42\n",
            "Epoch:  43\n",
            "Epoch:  44\n",
            "Epoch:  45\n",
            "Epoch:  46\n",
            "Epoch:  47\n",
            "Iteration: 3000. Loss: 1.5703938007354736. Accuracy: 41.598984771573605\n",
            "Epoch:  48\n",
            "Epoch:  49\n",
            "Epoch:  50\n",
            "Epoch:  51\n",
            "Epoch:  52\n",
            "Epoch:  53\n",
            "Epoch:  54\n",
            "Epoch:  55\n",
            "Iteration: 3500. Loss: 1.4682356119155884. Accuracy: 45.558375634517766\n",
            "Epoch:  56\n",
            "Epoch:  57\n",
            "Epoch:  58\n",
            "Epoch:  59\n",
            "Epoch:  60\n",
            "Epoch:  61\n",
            "Epoch:  62\n",
            "Epoch:  63\n",
            "Iteration: 4000. Loss: 1.3488011360168457. Accuracy: 48.4263959390863\n",
            "Epoch:  64\n",
            "Epoch:  65\n",
            "Epoch:  66\n",
            "Epoch:  67\n",
            "Epoch:  68\n",
            "Epoch:  69\n",
            "Epoch:  70\n",
            "Epoch:  71\n",
            "Iteration: 4500. Loss: 1.1392523050308228. Accuracy: 56.16751269035533\n",
            "Epoch:  72\n",
            "Epoch:  73\n",
            "Epoch:  74\n",
            "Epoch:  75\n",
            "Epoch:  76\n",
            "Epoch:  77\n",
            "Epoch:  78\n",
            "Epoch:  79\n",
            "Iteration: 5000. Loss: 1.1950587034225464. Accuracy: 56.29441624365482\n",
            "Epoch:  80\n",
            "Epoch:  81\n",
            "Epoch:  82\n",
            "Epoch:  83\n",
            "Epoch:  84\n",
            "Epoch:  85\n",
            "Epoch:  86\n",
            "Iteration: 5500. Loss: 1.0444265604019165. Accuracy: 59.18781725888325\n",
            "Epoch:  87\n",
            "Epoch:  88\n",
            "Epoch:  89\n",
            "Epoch:  90\n",
            "Epoch:  91\n",
            "Epoch:  92\n",
            "Epoch:  93\n",
            "Epoch:  94\n",
            "Iteration: 6000. Loss: 0.9833385944366455. Accuracy: 60.22842639593909\n",
            "Epoch:  95\n",
            "Epoch:  96\n",
            "Epoch:  97\n",
            "Epoch:  98\n",
            "Epoch:  99\n",
            "Epoch:  100\n",
            "Epoch:  101\n",
            "Epoch:  102\n",
            "Iteration: 6500. Loss: 0.9505923390388489. Accuracy: 65.91370558375634\n",
            "Epoch:  103\n",
            "Epoch:  104\n",
            "Epoch:  105\n",
            "Epoch:  106\n",
            "Epoch:  107\n",
            "Epoch:  108\n",
            "Epoch:  109\n",
            "Epoch:  110\n",
            "Iteration: 7000. Loss: 0.9016949534416199. Accuracy: 57.33502538071066\n",
            "Epoch:  111\n",
            "Epoch:  112\n",
            "Epoch:  113\n",
            "Epoch:  114\n",
            "Epoch:  115\n",
            "Epoch:  116\n",
            "Epoch:  117\n",
            "Epoch:  118\n",
            "Iteration: 7500. Loss: 0.8886038661003113. Accuracy: 67.99492385786802\n",
            "Epoch:  119\n",
            "Epoch:  120\n",
            "Epoch:  121\n",
            "Epoch:  122\n",
            "Epoch:  123\n",
            "Epoch:  124\n",
            "Epoch:  125\n",
            "Iteration: 8000. Loss: 0.5298938155174255. Accuracy: 60.786802030456855\n",
            "Epoch:  126\n",
            "Epoch:  127\n",
            "Epoch:  128\n",
            "Epoch:  129\n",
            "Epoch:  130\n",
            "Epoch:  131\n",
            "Epoch:  132\n",
            "Epoch:  133\n",
            "Iteration: 8500. Loss: 1.0093108415603638. Accuracy: 65.93908629441624\n",
            "Epoch:  134\n",
            "Epoch:  135\n",
            "Epoch:  136\n",
            "Epoch:  137\n",
            "Epoch:  138\n",
            "Epoch:  139\n",
            "Epoch:  140\n",
            "Epoch:  141\n",
            "Iteration: 9000. Loss: 0.796596109867096. Accuracy: 66.16751269035532\n",
            "Epoch:  142\n",
            "Epoch:  143\n",
            "Epoch:  144\n",
            "Epoch:  145\n",
            "Epoch:  146\n",
            "Epoch:  147\n",
            "Epoch:  148\n",
            "Epoch:  149\n",
            "Iteration: 9500. Loss: 0.8619968295097351. Accuracy: 66.5482233502538\n",
            "Epoch:  150\n",
            "Epoch:  151\n",
            "Epoch:  152\n",
            "Epoch:  153\n",
            "Epoch:  154\n",
            "Epoch:  155\n",
            "Epoch:  156\n",
            "Epoch:  157\n",
            "Iteration: 10000. Loss: 0.7140133380889893. Accuracy: 69.08629441624366\n",
            "Epoch:  158\n",
            "Epoch:  159\n",
            "Epoch:  160\n",
            "Epoch:  161\n",
            "Epoch:  162\n",
            "Epoch:  163\n",
            "Epoch:  164\n",
            "Epoch:  165\n",
            "Iteration: 10500. Loss: 0.7466236352920532. Accuracy: 70.25380710659898\n",
            "Epoch:  166\n",
            "Epoch:  167\n",
            "Epoch:  168\n",
            "Epoch:  169\n",
            "Epoch:  170\n",
            "Epoch:  171\n",
            "Epoch:  172\n",
            "Iteration: 11000. Loss: 0.6772938370704651. Accuracy: 70.71065989847716\n",
            "Epoch:  173\n",
            "Epoch:  174\n",
            "Epoch:  175\n",
            "Epoch:  176\n",
            "Epoch:  177\n",
            "Epoch:  178\n",
            "Epoch:  179\n",
            "Epoch:  180\n",
            "Iteration: 11500. Loss: 0.7121106386184692. Accuracy: 71.57360406091371\n",
            "Epoch:  181\n",
            "Epoch:  182\n",
            "Epoch:  183\n",
            "Epoch:  184\n",
            "Epoch:  185\n",
            "Epoch:  186\n",
            "Epoch:  187\n",
            "Epoch:  188\n",
            "Iteration: 12000. Loss: 0.8018173575401306. Accuracy: 69.36548223350253\n",
            "Epoch:  189\n",
            "Epoch:  190\n",
            "Epoch:  191\n",
            "Epoch:  192\n",
            "Epoch:  193\n",
            "Epoch:  194\n",
            "Epoch:  195\n",
            "Epoch:  196\n",
            "Iteration: 12500. Loss: 0.9474112391471863. Accuracy: 72.03045685279187\n",
            "Epoch:  197\n",
            "Epoch:  198\n",
            "Epoch:  199\n",
            "Epoch:  200\n",
            "Epoch:  201\n",
            "Epoch:  202\n",
            "Epoch:  203\n",
            "Epoch:  204\n",
            "Iteration: 13000. Loss: 0.7224571704864502. Accuracy: 73.98477157360406\n",
            "Epoch:  205\n",
            "Epoch:  206\n",
            "Epoch:  207\n",
            "Epoch:  208\n",
            "Epoch:  209\n",
            "Epoch:  210\n",
            "Epoch:  211\n",
            "Iteration: 13500. Loss: 0.643396258354187. Accuracy: 72.08121827411168\n",
            "Epoch:  212\n",
            "Epoch:  213\n",
            "Epoch:  214\n",
            "Epoch:  215\n",
            "Epoch:  216\n",
            "Epoch:  217\n",
            "Epoch:  218\n",
            "Epoch:  219\n",
            "Iteration: 14000. Loss: 0.8429698348045349. Accuracy: 71.5989847715736\n",
            "Epoch:  220\n",
            "Epoch:  221\n",
            "Epoch:  222\n",
            "Epoch:  223\n",
            "Epoch:  224\n",
            "Epoch:  225\n",
            "Epoch:  226\n",
            "Epoch:  227\n",
            "Iteration: 14500. Loss: 0.6157411336898804. Accuracy: 73.1725888324873\n",
            "Epoch:  228\n",
            "Epoch:  229\n",
            "Epoch:  230\n",
            "Epoch:  231\n",
            "Epoch:  232\n",
            "Epoch:  233\n",
            "Epoch:  234\n",
            "Epoch:  235\n",
            "Iteration: 15000. Loss: 0.8173184990882874. Accuracy: 73.1725888324873\n",
            "Epoch:  236\n",
            "Epoch:  237\n",
            "Epoch:  238\n",
            "Epoch:  239\n",
            "Epoch:  240\n",
            "Epoch:  241\n",
            "Epoch:  242\n",
            "Epoch:  243\n",
            "Iteration: 15500. Loss: 0.6643624305725098. Accuracy: 75.53299492385787\n",
            "Epoch:  244\n",
            "Epoch:  245\n",
            "Epoch:  246\n",
            "Epoch:  247\n",
            "Epoch:  248\n",
            "Epoch:  249\n",
            "Epoch:  250\n",
            "Iteration: 16000. Loss: 0.7484917640686035. Accuracy: 73.73096446700508\n",
            "Epoch:  251\n",
            "Epoch:  252\n",
            "Epoch:  253\n"
          ]
        }
      ]
    },
    {
      "cell_type": "code",
      "metadata": {
        "id": "tfdu1qtu2gtr"
      },
      "source": [
        "torch.save(model.state_dict(), '/content/drive/MyDrive/CSE4238/Offline 2/Models/model_3.pkl')"
      ],
      "execution_count": null,
      "outputs": []
    },
    {
      "cell_type": "code",
      "metadata": {
        "colab": {
          "base_uri": "https://localhost:8080/",
          "height": 316
        },
        "id": "4C2XvINo2ot2",
        "outputId": "e21c8fe7-919e-404e-8ac4-14927ab30b4a"
      },
      "source": [
        "print (iteration_loss)\n",
        "plt.plot(iteration_loss)\n",
        "plt.ylabel('Loss')\n",
        "plt.xlabel('Iteration')\n",
        "plt.show()"
      ],
      "execution_count": null,
      "outputs": [
        {
          "output_type": "stream",
          "name": "stdout",
          "text": [
            "[1.8042632341384888, 1.6223139762878418, 1.6261943578720093, 1.583701491355896, 2.3370230197906494, 1.5703938007354736, 1.4682356119155884, 1.3488011360168457, 1.1392523050308228, 1.1950587034225464, 1.0444265604019165, 0.9833385944366455, 0.9505923390388489, 0.9016949534416199, 0.8886038661003113, 0.5298938155174255, 1.0093108415603638, 0.796596109867096, 0.8619968295097351, 0.7140133380889893, 0.7466236352920532, 0.6772938370704651, 0.7121106386184692, 0.8018173575401306, 0.9474112391471863, 0.7224571704864502, 0.643396258354187, 0.8429698348045349, 0.6157411336898804, 0.8173184990882874, 0.6643624305725098, 0.7484917640686035]\n"
          ]
        },
        {
          "output_type": "display_data",
          "data": {
            "image/png": "[encoded data removed]",
            "text/plain": [
              "<Figure size 432x288 with 1 Axes>"
            ]
          },
          "metadata": {
            "needs_background": "light"
          }
        }
      ]
    },
    {
      "cell_type": "markdown",
      "metadata": {
        "id": "5NLsVujz2zLj"
      },
      "source": [
        "# **Tuned Parameters: 04**"
      ]
    },
    {
      "cell_type": "code",
      "metadata": {
        "colab": {
          "base_uri": "https://localhost:8080/"
        },
        "id": "vFQvDoq923ip",
        "outputId": "438526c9-694d-4b21-d187-b6ecff3c458c"
      },
      "source": [
        "batch_size = 250\n",
        "num_iters = 24000\n",
        "input_dim = 28*28\n",
        "num_hidden = 220\n",
        "output_dim = 10\n",
        "\n",
        "learning_rate = 0.001\n",
        "\n",
        "num_epochs = num_iters / (len(train_data) / batch_size)\n",
        "num_epochs = int(num_epochs)\n",
        "print(num_epochs)\n",
        "\n",
        "device = torch.device(\"cuda:0\" if torch.cuda.is_available() else \"cpu\")"
      ],
      "execution_count": null,
      "outputs": [
        {
          "output_type": "stream",
          "name": "stdout",
          "text": [
            "304\n"
          ]
        }
      ]
    },
    {
      "cell_type": "code",
      "metadata": {
        "colab": {
          "base_uri": "https://localhost:8080/"
        },
        "id": "ITls1KcM3GaQ",
        "outputId": "5fae236c-91cb-4148-9858-9a94a7d63888"
      },
      "source": [
        "test_size = 0.2\n",
        "num_train = len(train_data)\n",
        "indices = list(range(num_train))\n",
        "np.random.shuffle(indices)\n",
        "split = int(np.floor(test_size * num_train))\n",
        "train_idx, test_idx = indices[split:], indices[:split]\n",
        "\n",
        "train_sampler = SubsetRandomSampler(train_idx)\n",
        "test_sampler = SubsetRandomSampler(test_idx)\n",
        "\n",
        "train_loader = torch.utils.data.DataLoader(\n",
        "    train_data, batch_size=batch_size,\n",
        "    sampler=train_sampler)\n",
        "\n",
        "test_loader = torch.utils.data.DataLoader(\n",
        "    test_data, batch_size=batch_size,\n",
        "    sampler=test_sampler)\n",
        "\n",
        "print(\"Train dataloader:{}\".format(len(train_loader)))\n",
        "print(\"Test dataloader:{}\".format(len(test_loader)))"
      ],
      "execution_count": null,
      "outputs": [
        {
          "output_type": "stream",
          "name": "stdout",
          "text": [
            "Train dataloader:64\n",
            "Test dataloader:16\n"
          ]
        }
      ]
    },
    {
      "cell_type": "code",
      "metadata": {
        "id": "3DQwJRUX33w6"
      },
      "source": [
        "class DeepNeuralNetworkModel(nn.Module):\n",
        "    def __init__(self, input_size, num_classes, num_hidden):\n",
        "        super().__init__()\n",
        "       \n",
        "        self.linear_1 = nn.Linear(input_size, num_hidden)\n",
        "        self.relu_1 = nn.ReLU()\n",
        " \n",
        "        self.linear_2 = nn.Linear(num_hidden, num_hidden)\n",
        "        self.relu_2 = nn.ReLU()\n",
        " \n",
        "        self.linear_3 = nn.Linear(num_hidden, num_hidden)\n",
        "        self.relu_3 = nn.ReLU()\n",
        " \n",
        "        self.linear_4 = nn.Linear(num_hidden, num_hidden)\n",
        "        self.relu_4 = nn.ReLU()\n",
        " \n",
        "        self.linear_5= nn.Linear(num_hidden, num_hidden)\n",
        "        self.relu_5= nn.ReLU()\n",
        " \n",
        "        self.linear_6 = nn.Linear(num_hidden, num_hidden)\n",
        "        self.relu_6 = nn.ReLU()\n",
        " \n",
        "        self.linear_out = nn.Linear(num_hidden, num_classes)\n",
        " \n",
        "    def forward(self, x):\n",
        "        out  = self.linear_1(x)\n",
        "        out = self.relu_1(out)\n",
        "        \n",
        "        out  = self.linear_2(out)\n",
        "        out = self.relu_2(out)\n",
        " \n",
        "        out  = self.linear_3(out)\n",
        "        out = self.relu_3(out)\n",
        " \n",
        "        out  = self.linear_4(out)\n",
        "        out = self.relu_4(out)\n",
        " \n",
        "        out  = self.linear_5(out)\n",
        "        out = self.relu_5(out)\n",
        " \n",
        "        out  = self.linear_6(out)\n",
        "        out = self.relu_6(out)\n",
        "        \n",
        "        probas  = self.linear_out(out)\n",
        "        return probas"
      ],
      "execution_count": null,
      "outputs": []
    },
    {
      "cell_type": "code",
      "metadata": {
        "colab": {
          "base_uri": "https://localhost:8080/"
        },
        "id": "zCN86kn639ht",
        "outputId": "a8bc311a-16c3-4fbd-b26e-e6e1f8051c1b"
      },
      "source": [
        "model = DeepNeuralNetworkModel(input_size = input_dim, num_classes = output_dim, num_hidden = num_hidden)\n",
        "\n",
        "model.to(device)"
      ],
      "execution_count": null,
      "outputs": [
        {
          "output_type": "execute_result",
          "data": {
            "text/plain": [
              "DeepNeuralNetworkModel(\n",
              "  (linear_1): Linear(in_features=784, out_features=220, bias=True)\n",
              "  (relu_1): ReLU()\n",
              "  (linear_2): Linear(in_features=220, out_features=220, bias=True)\n",
              "  (relu_2): ReLU()\n",
              "  (linear_3): Linear(in_features=220, out_features=220, bias=True)\n",
              "  (relu_3): ReLU()\n",
              "  (linear_4): Linear(in_features=220, out_features=220, bias=True)\n",
              "  (relu_4): ReLU()\n",
              "  (linear_5): Linear(in_features=220, out_features=220, bias=True)\n",
              "  (relu_5): ReLU()\n",
              "  (linear_6): Linear(in_features=220, out_features=220, bias=True)\n",
              "  (relu_6): ReLU()\n",
              "  (linear_out): Linear(in_features=220, out_features=10, bias=True)\n",
              ")"
            ]
          },
          "metadata": {},
          "execution_count": 20
        }
      ]
    },
    {
      "cell_type": "code",
      "metadata": {
        "id": "A3bBnTio4D2O"
      },
      "source": [
        "criterion = nn.CrossEntropyLoss()\n",
        "optimizer = torch.optim.Adam(model.parameters(), lr = learning_rate)"
      ],
      "execution_count": null,
      "outputs": []
    },
    {
      "cell_type": "code",
      "metadata": {
        "colab": {
          "base_uri": "https://localhost:8080/"
        },
        "id": "CxjJIYdN4NUH",
        "outputId": "254ed2ef-4b00-4f1a-995a-e89fc26a9aa5"
      },
      "source": [
        "iteration_loss = []\n",
        "iter = 0\n",
        "for epoch in range(num_epochs):\n",
        "    print('Epoch: ', epoch + 1)\n",
        "    for i, (images, labels) in enumerate(train_loader):\n",
        "\n",
        "        images = images.view(-1, 28*28).to(device)\n",
        "        labels = labels.to(device)\n",
        "\n",
        "        optimizer.zero_grad()\n",
        "\n",
        "        outputs = model(images) \n",
        "\n",
        "        loss = criterion(outputs, labels)\n",
        "\n",
        "        loss.backward()\n",
        "\n",
        "        optimizer.step()\n",
        "\n",
        "        iter += 1\n",
        "\n",
        "        if iter % 500 == 0:        \n",
        "            correct = 0\n",
        "            total = 0\n",
        "            for images, labels in test_loader:\n",
        "               \n",
        "                images = images.view(-1, 28*28).to(device)\n",
        "\n",
        "                outputs = model(images)\n",
        "\n",
        "                _, predicted = torch.max(outputs, 1)\n",
        "\n",
        "                total += labels.size(0)\n",
        "\n",
        "                if torch.cuda.is_available():\n",
        "                    correct += (predicted.cpu() == labels.cpu()).sum() \n",
        "                else:\n",
        "                    correct += (predicted == labels).sum()\n",
        "\n",
        "            accuracy = 100 * correct.item() / total\n",
        "\n",
        "            iteration_loss.append(loss.item())\n",
        "            print('Iteration: {}. Loss: {}. Accuracy: {}'.format(iter, loss.item(), accuracy))"
      ],
      "execution_count": null,
      "outputs": [
        {
          "output_type": "stream",
          "name": "stdout",
          "text": [
            "Epoch:  1\n",
            "Epoch:  2\n",
            "Epoch:  3\n",
            "Epoch:  4\n",
            "Epoch:  5\n",
            "Epoch:  6\n",
            "Epoch:  7\n",
            "Epoch:  8\n",
            "Iteration: 500. Loss: 1.8273845911026. Accuracy: 22.96954314720812\n",
            "Epoch:  9\n",
            "Epoch:  10\n",
            "Epoch:  11\n",
            "Epoch:  12\n",
            "Epoch:  13\n",
            "Epoch:  14\n",
            "Epoch:  15\n",
            "Epoch:  16\n",
            "Iteration: 1000. Loss: 1.6754894256591797. Accuracy: 31.85279187817259\n",
            "Epoch:  17\n",
            "Epoch:  18\n",
            "Epoch:  19\n",
            "Epoch:  20\n",
            "Epoch:  21\n",
            "Epoch:  22\n",
            "Epoch:  23\n",
            "Epoch:  24\n",
            "Iteration: 1500. Loss: 1.6052650213241577. Accuracy: 29.9746192893401\n",
            "Epoch:  25\n",
            "Epoch:  26\n",
            "Epoch:  27\n",
            "Epoch:  28\n",
            "Epoch:  29\n",
            "Epoch:  30\n",
            "Epoch:  31\n",
            "Epoch:  32\n",
            "Iteration: 2000. Loss: 1.5041186809539795. Accuracy: 30.609137055837564\n",
            "Epoch:  33\n",
            "Epoch:  34\n",
            "Epoch:  35\n",
            "Epoch:  36\n",
            "Epoch:  37\n",
            "Epoch:  38\n",
            "Epoch:  39\n",
            "Epoch:  40\n",
            "Iteration: 2500. Loss: 1.330026388168335. Accuracy: 37.38578680203046\n",
            "Epoch:  41\n",
            "Epoch:  42\n",
            "Epoch:  43\n",
            "Epoch:  44\n",
            "Epoch:  45\n",
            "Epoch:  46\n",
            "Epoch:  47\n",
            "Iteration: 3000. Loss: 1.813132405281067. Accuracy: 59.16243654822335\n",
            "Epoch:  48\n",
            "Epoch:  49\n",
            "Epoch:  50\n",
            "Epoch:  51\n",
            "Epoch:  52\n",
            "Epoch:  53\n",
            "Epoch:  54\n",
            "Epoch:  55\n",
            "Iteration: 3500. Loss: 1.0012925863265991. Accuracy: 59.64467005076142\n",
            "Epoch:  56\n",
            "Epoch:  57\n",
            "Epoch:  58\n",
            "Epoch:  59\n",
            "Epoch:  60\n",
            "Epoch:  61\n",
            "Epoch:  62\n",
            "Epoch:  63\n",
            "Iteration: 4000. Loss: 0.858940601348877. Accuracy: 63.45177664974619\n",
            "Epoch:  64\n",
            "Epoch:  65\n",
            "Epoch:  66\n",
            "Epoch:  67\n",
            "Epoch:  68\n",
            "Epoch:  69\n",
            "Epoch:  70\n",
            "Epoch:  71\n",
            "Iteration: 4500. Loss: 0.7729440927505493. Accuracy: 66.34517766497461\n",
            "Epoch:  72\n",
            "Epoch:  73\n",
            "Epoch:  74\n",
            "Epoch:  75\n",
            "Epoch:  76\n",
            "Epoch:  77\n",
            "Epoch:  78\n",
            "Epoch:  79\n",
            "Iteration: 5000. Loss: 0.9309746026992798. Accuracy: 68.1472081218274\n",
            "Epoch:  80\n",
            "Epoch:  81\n",
            "Epoch:  82\n",
            "Epoch:  83\n",
            "Epoch:  84\n",
            "Epoch:  85\n",
            "Epoch:  86\n",
            "Iteration: 5500. Loss: 0.8078073263168335. Accuracy: 69.64467005076142\n",
            "Epoch:  87\n",
            "Epoch:  88\n",
            "Epoch:  89\n",
            "Epoch:  90\n",
            "Epoch:  91\n",
            "Epoch:  92\n",
            "Epoch:  93\n",
            "Epoch:  94\n",
            "Iteration: 6000. Loss: 0.6990765929222107. Accuracy: 74.64467005076142\n",
            "Epoch:  95\n",
            "Epoch:  96\n",
            "Epoch:  97\n",
            "Epoch:  98\n",
            "Epoch:  99\n",
            "Epoch:  100\n",
            "Epoch:  101\n",
            "Epoch:  102\n",
            "Iteration: 6500. Loss: 0.754106879234314. Accuracy: 74.77157360406092\n",
            "Epoch:  103\n",
            "Epoch:  104\n",
            "Epoch:  105\n",
            "Epoch:  106\n",
            "Epoch:  107\n",
            "Epoch:  108\n",
            "Epoch:  109\n",
            "Epoch:  110\n",
            "Iteration: 7000. Loss: 0.8169974684715271. Accuracy: 72.71573604060913\n",
            "Epoch:  111\n",
            "Epoch:  112\n",
            "Epoch:  113\n",
            "Epoch:  114\n",
            "Epoch:  115\n",
            "Epoch:  116\n",
            "Epoch:  117\n",
            "Epoch:  118\n",
            "Iteration: 7500. Loss: 0.6937756538391113. Accuracy: 70.58375634517766\n",
            "Epoch:  119\n",
            "Epoch:  120\n",
            "Epoch:  121\n",
            "Epoch:  122\n",
            "Epoch:  123\n",
            "Epoch:  124\n",
            "Epoch:  125\n",
            "Iteration: 8000. Loss: 0.637956440448761. Accuracy: 75.43147208121827\n",
            "Epoch:  126\n",
            "Epoch:  127\n",
            "Epoch:  128\n",
            "Epoch:  129\n",
            "Epoch:  130\n",
            "Epoch:  131\n",
            "Epoch:  132\n",
            "Epoch:  133\n",
            "Iteration: 8500. Loss: 0.5517435073852539. Accuracy: 77.36040609137056\n",
            "Epoch:  134\n",
            "Epoch:  135\n",
            "Epoch:  136\n",
            "Epoch:  137\n",
            "Epoch:  138\n",
            "Epoch:  139\n",
            "Epoch:  140\n",
            "Epoch:  141\n",
            "Iteration: 9000. Loss: 0.7173561453819275. Accuracy: 77.23350253807106\n",
            "Epoch:  142\n",
            "Epoch:  143\n",
            "Epoch:  144\n",
            "Epoch:  145\n",
            "Epoch:  146\n",
            "Epoch:  147\n",
            "Epoch:  148\n",
            "Epoch:  149\n",
            "Iteration: 9500. Loss: 0.49648869037628174. Accuracy: 78.09644670050761\n",
            "Epoch:  150\n",
            "Epoch:  151\n",
            "Epoch:  152\n",
            "Epoch:  153\n",
            "Epoch:  154\n",
            "Epoch:  155\n",
            "Epoch:  156\n",
            "Epoch:  157\n",
            "Iteration: 10000. Loss: 0.6509358882904053. Accuracy: 75.15228426395939\n",
            "Epoch:  158\n",
            "Epoch:  159\n",
            "Epoch:  160\n",
            "Epoch:  161\n",
            "Epoch:  162\n",
            "Epoch:  163\n",
            "Epoch:  164\n",
            "Epoch:  165\n",
            "Iteration: 10500. Loss: 0.5318053960800171. Accuracy: 73.98477157360406\n",
            "Epoch:  166\n",
            "Epoch:  167\n",
            "Epoch:  168\n",
            "Epoch:  169\n",
            "Epoch:  170\n",
            "Epoch:  171\n",
            "Epoch:  172\n",
            "Iteration: 11000. Loss: 0.5389615893363953. Accuracy: 79.16243654822335\n",
            "Epoch:  173\n",
            "Epoch:  174\n",
            "Epoch:  175\n",
            "Epoch:  176\n",
            "Epoch:  177\n",
            "Epoch:  178\n",
            "Epoch:  179\n",
            "Epoch:  180\n",
            "Iteration: 11500. Loss: 0.6128135919570923. Accuracy: 78.75634517766497\n",
            "Epoch:  181\n",
            "Epoch:  182\n",
            "Epoch:  183\n",
            "Epoch:  184\n",
            "Epoch:  185\n",
            "Epoch:  186\n",
            "Epoch:  187\n",
            "Epoch:  188\n",
            "Iteration: 12000. Loss: 0.35490986704826355. Accuracy: 78.88324873096447\n",
            "Epoch:  189\n",
            "Epoch:  190\n",
            "Epoch:  191\n",
            "Epoch:  192\n",
            "Epoch:  193\n",
            "Epoch:  194\n",
            "Epoch:  195\n",
            "Epoch:  196\n",
            "Iteration: 12500. Loss: 0.5787357687950134. Accuracy: 78.90862944162437\n",
            "Epoch:  197\n",
            "Epoch:  198\n",
            "Epoch:  199\n",
            "Epoch:  200\n",
            "Epoch:  201\n",
            "Epoch:  202\n",
            "Epoch:  203\n",
            "Epoch:  204\n",
            "Iteration: 13000. Loss: 0.48564183712005615. Accuracy: 69.69543147208122\n",
            "Epoch:  205\n",
            "Epoch:  206\n",
            "Epoch:  207\n",
            "Epoch:  208\n",
            "Epoch:  209\n",
            "Epoch:  210\n",
            "Epoch:  211\n",
            "Iteration: 13500. Loss: 0.3249801695346832. Accuracy: 80.48223350253807\n",
            "Epoch:  212\n",
            "Epoch:  213\n",
            "Epoch:  214\n",
            "Epoch:  215\n",
            "Epoch:  216\n",
            "Epoch:  217\n",
            "Epoch:  218\n",
            "Epoch:  219\n",
            "Iteration: 14000. Loss: 0.33546972274780273. Accuracy: 77.89340101522842\n",
            "Epoch:  220\n",
            "Epoch:  221\n",
            "Epoch:  222\n",
            "Epoch:  223\n",
            "Epoch:  224\n",
            "Epoch:  225\n",
            "Epoch:  226\n",
            "Epoch:  227\n",
            "Iteration: 14500. Loss: 0.4564385414123535. Accuracy: 80.30456852791878\n",
            "Epoch:  228\n",
            "Epoch:  229\n",
            "Epoch:  230\n",
            "Epoch:  231\n",
            "Epoch:  232\n",
            "Epoch:  233\n",
            "Epoch:  234\n",
            "Epoch:  235\n",
            "Iteration: 15000. Loss: 0.3548731505870819. Accuracy: 81.7258883248731\n",
            "Epoch:  236\n",
            "Epoch:  237\n",
            "Epoch:  238\n",
            "Epoch:  239\n",
            "Epoch:  240\n",
            "Epoch:  241\n",
            "Epoch:  242\n",
            "Epoch:  243\n",
            "Iteration: 15500. Loss: 0.41263529658317566. Accuracy: 82.66497461928934\n",
            "Epoch:  244\n",
            "Epoch:  245\n",
            "Epoch:  246\n",
            "Epoch:  247\n",
            "Epoch:  248\n",
            "Epoch:  249\n",
            "Epoch:  250\n",
            "Iteration: 16000. Loss: 0.7040069103240967. Accuracy: 80.55837563451777\n",
            "Epoch:  251\n",
            "Epoch:  252\n",
            "Epoch:  253\n",
            "Epoch:  254\n",
            "Epoch:  255\n",
            "Epoch:  256\n",
            "Epoch:  257\n",
            "Epoch:  258\n",
            "Iteration: 16500. Loss: 0.522861897945404. Accuracy: 82.69035532994924\n",
            "Epoch:  259\n",
            "Epoch:  260\n",
            "Epoch:  261\n",
            "Epoch:  262\n",
            "Epoch:  263\n",
            "Epoch:  264\n",
            "Epoch:  265\n",
            "Epoch:  266\n",
            "Iteration: 17000. Loss: 0.41377973556518555. Accuracy: 84.41624365482234\n",
            "Epoch:  267\n",
            "Epoch:  268\n",
            "Epoch:  269\n",
            "Epoch:  270\n",
            "Epoch:  271\n",
            "Epoch:  272\n",
            "Epoch:  273\n",
            "Epoch:  274\n",
            "Iteration: 17500. Loss: 0.45809856057167053. Accuracy: 80.73604060913705\n",
            "Epoch:  275\n",
            "Epoch:  276\n",
            "Epoch:  277\n",
            "Epoch:  278\n",
            "Epoch:  279\n",
            "Epoch:  280\n",
            "Epoch:  281\n",
            "Epoch:  282\n",
            "Iteration: 18000. Loss: 0.6609698534011841. Accuracy: 72.00507614213198\n",
            "Epoch:  283\n",
            "Epoch:  284\n",
            "Epoch:  285\n",
            "Epoch:  286\n",
            "Epoch:  287\n",
            "Epoch:  288\n",
            "Epoch:  289\n",
            "Epoch:  290\n",
            "Iteration: 18500. Loss: 0.352451354265213. Accuracy: 82.89340101522842\n",
            "Epoch:  291\n",
            "Epoch:  292\n",
            "Epoch:  293\n",
            "Epoch:  294\n",
            "Epoch:  295\n",
            "Epoch:  296\n",
            "Epoch:  297\n",
            "Iteration: 19000. Loss: 0.4854024648666382. Accuracy: 82.38578680203045\n",
            "Epoch:  298\n",
            "Epoch:  299\n",
            "Epoch:  300\n",
            "Epoch:  301\n",
            "Epoch:  302\n",
            "Epoch:  303\n",
            "Epoch:  304\n"
          ]
        }
      ]
    },
    {
      "cell_type": "code",
      "metadata": {
        "id": "WSZLPORZMBz4"
      },
      "source": [
        "torch.save(model.state_dict(), '/content/drive/MyDrive/CSE4238/Offline 2/Models/model_4.pkl')"
      ],
      "execution_count": null,
      "outputs": []
    },
    {
      "cell_type": "code",
      "metadata": {
        "colab": {
          "base_uri": "https://localhost:8080/",
          "height": 316
        },
        "id": "13j7KVT_MWqv",
        "outputId": "4fce9ecd-ccc4-4c7f-a5bc-133e7b344ada"
      },
      "source": [
        "print (iteration_loss)\n",
        "plt.plot(iteration_loss)\n",
        "plt.ylabel('Loss')\n",
        "plt.xlabel('Iteration')\n",
        "plt.show()"
      ],
      "execution_count": null,
      "outputs": [
        {
          "output_type": "stream",
          "name": "stdout",
          "text": [
            "[1.8273845911026, 1.6754894256591797, 1.6052650213241577, 1.5041186809539795, 1.330026388168335, 1.813132405281067, 1.0012925863265991, 0.858940601348877, 0.7729440927505493, 0.9309746026992798, 0.8078073263168335, 0.6990765929222107, 0.754106879234314, 0.8169974684715271, 0.6937756538391113, 0.637956440448761, 0.5517435073852539, 0.7173561453819275, 0.49648869037628174, 0.6509358882904053, 0.5318053960800171, 0.5389615893363953, 0.6128135919570923, 0.35490986704826355, 0.5787357687950134, 0.48564183712005615, 0.3249801695346832, 0.33546972274780273, 0.4564385414123535, 0.3548731505870819, 0.41263529658317566, 0.7040069103240967, 0.522861897945404, 0.41377973556518555, 0.45809856057167053, 0.6609698534011841, 0.352451354265213, 0.4854024648666382, 0.9655871391296387, 0.9655871391296387, 0.9655871391296387, 0.9655871391296387, 0.9655871391296387, 0.9655871391296387, 0.9655871391296387, 0.9655871391296387, 0.9655871391296387, 0.9655871391296387, 0.9655871391296387, 0.9655871391296387, 0.9655871391296387, 0.9655871391296387, 0.9655871391296387, 0.9655871391296387]\n"
          ]
        },
        {
          "output_type": "display_data",
          "data": {
            "image/png": "[encoded data removed]",
            "text/plain": [
              "<Figure size 432x288 with 1 Axes>"
            ]
          },
          "metadata": {
            "needs_background": "light"
          }
        }
      ]
    },
    {
      "cell_type": "code",
      "metadata": {
        "colab": {
          "base_uri": "https://localhost:8080/"
        },
        "id": "Bpqnpix1NC_E",
        "outputId": "705929b2-3068-4a22-ba03-6f19a5897589"
      },
      "source": [
        "iter = 19456\n",
        "for epoch in range(19):\n",
        "    print('Epoch: ', epoch + 1)\n",
        "    for i, (images, labels) in enumerate(train_loader):\n",
        "\n",
        "        images = images.view(-1, 28*28).to(device)\n",
        "        labels = labels.to(device)\n",
        "\n",
        "        optimizer.zero_grad()\n",
        "\n",
        "        outputs = model(images) \n",
        "\n",
        "        loss = criterion(outputs, labels)\n",
        "\n",
        "        loss.backward()\n",
        "\n",
        "        optimizer.step()\n",
        "\n",
        "        iter += 1\n",
        "\n",
        "        if iter % 500 == 0:        \n",
        "            correct = 0\n",
        "            total = 0\n",
        "            for images, labels in test_loader:\n",
        "               \n",
        "                images = images.view(-1, 28*28).to(device)\n",
        "\n",
        "                outputs = model(images)\n",
        "\n",
        "                _, predicted = torch.max(outputs, 1)\n",
        "\n",
        "                total += labels.size(0)\n",
        "\n",
        "                if torch.cuda.is_available():\n",
        "                    correct += (predicted.cpu() == labels.cpu()).sum() \n",
        "                else:\n",
        "                    correct += (predicted == labels).sum()\n",
        "\n",
        "            accuracy = 100 * correct.item() / total\n",
        "\n",
        "            iteration_loss.append(loss.item())\n",
        "            print('Iteration: {}. Loss: {}. Accuracy: {}'.format(iter, loss.item(), accuracy))"
      ],
      "execution_count": null,
      "outputs": [
        {
          "output_type": "stream",
          "name": "stdout",
          "text": [
            "Epoch:  1\n",
            "Iteration: 19500. Loss: 0.4437919557094574. Accuracy: 84.06091370558376\n",
            "Epoch:  2\n",
            "Epoch:  3\n",
            "Epoch:  4\n",
            "Epoch:  5\n",
            "Epoch:  6\n",
            "Epoch:  7\n",
            "Epoch:  8\n",
            "Epoch:  9\n",
            "Iteration: 20000. Loss: 0.3088639974594116. Accuracy: 83.1472081218274\n",
            "Epoch:  10\n",
            "Epoch:  11\n",
            "Epoch:  12\n",
            "Epoch:  13\n",
            "Epoch:  14\n",
            "Epoch:  15\n",
            "Epoch:  16\n",
            "Epoch:  17\n",
            "Iteration: 20500. Loss: 0.3374162018299103. Accuracy: 83.42639593908629\n",
            "Epoch:  18\n",
            "Epoch:  19\n"
          ]
        }
      ]
    },
    {
      "cell_type": "code",
      "metadata": {
        "colab": {
          "base_uri": "https://localhost:8080/",
          "height": 316
        },
        "id": "AP1KxCsJRag_",
        "outputId": "a88c21de-0613-41fa-fc0b-c38e0ef9702d"
      },
      "source": [
        "print (iteration_loss)\n",
        "plt.plot(iteration_loss)\n",
        "plt.ylabel('Loss')\n",
        "plt.xlabel('Iteration')\n",
        "plt.show()"
      ],
      "execution_count": null,
      "outputs": [
        {
          "output_type": "stream",
          "name": "stdout",
          "text": [
            "[1.8273845911026, 1.6754894256591797, 1.6052650213241577, 1.5041186809539795, 1.330026388168335, 1.813132405281067, 1.0012925863265991, 0.858940601348877, 0.7729440927505493, 0.9309746026992798, 0.8078073263168335, 0.6990765929222107, 0.754106879234314, 0.8169974684715271, 0.6937756538391113, 0.637956440448761, 0.5517435073852539, 0.7173561453819275, 0.49648869037628174, 0.6509358882904053, 0.5318053960800171, 0.5389615893363953, 0.6128135919570923, 0.35490986704826355, 0.5787357687950134, 0.48564183712005615, 0.3249801695346832, 0.33546972274780273, 0.4564385414123535, 0.3548731505870819, 0.41263529658317566, 0.7040069103240967, 0.522861897945404, 0.41377973556518555, 0.45809856057167053, 0.6609698534011841, 0.352451354265213, 0.4854024648666382, 0.9655871391296387, 0.9655871391296387, 0.9655871391296387, 0.9655871391296387, 0.9655871391296387, 0.9655871391296387, 0.9655871391296387, 0.9655871391296387, 0.9655871391296387, 0.9655871391296387, 0.9655871391296387, 0.9655871391296387, 0.9655871391296387, 0.9655871391296387, 0.9655871391296387, 0.9655871391296387, 0.4437919557094574, 0.3088639974594116, 0.3374162018299103]\n"
          ]
        },
        {
          "output_type": "display_data",
          "data": {
            "image/png": "[encoded data removed]",
            "text/plain": [
              "<Figure size 432x288 with 1 Axes>"
            ]
          },
          "metadata": {
            "needs_background": "light"
          }
        }
      ]
    },
    {
      "cell_type": "code",
      "metadata": {
        "colab": {
          "base_uri": "https://localhost:8080/"
        },
        "id": "HAHQue1MSELl",
        "outputId": "66ac765c-931c-4992-9226-6ba5dabba8f3"
      },
      "source": [
        "print(iter)"
      ],
      "execution_count": null,
      "outputs": [
        {
          "output_type": "stream",
          "name": "stdout",
          "text": [
            "20672\n"
          ]
        }
      ]
    },
    {
      "cell_type": "code",
      "metadata": {
        "colab": {
          "base_uri": "https://localhost:8080/"
        },
        "id": "AkWq-KmLSZDo",
        "outputId": "38b0778a-fe23-41c6-d636-406c5b39e3dd"
      },
      "source": [
        "iter = 20672\n",
        "for epoch in range(6):\n",
        "    print('Epoch: ', epoch + 1 + 323)\n",
        "    for i, (images, labels) in enumerate(train_loader):\n",
        "\n",
        "        images = images.view(-1, 28*28).to(device)\n",
        "        labels = labels.to(device)\n",
        "\n",
        "        optimizer.zero_grad()\n",
        "\n",
        "        outputs = model(images) \n",
        "\n",
        "        loss = criterion(outputs, labels)\n",
        "\n",
        "        loss.backward()\n",
        "\n",
        "        optimizer.step()\n",
        "\n",
        "        iter += 1\n",
        "\n",
        "        if iter % 500 == 0:        \n",
        "            correct = 0\n",
        "            total = 0\n",
        "            for images, labels in test_loader:\n",
        "               \n",
        "                images = images.view(-1, 28*28).to(device)\n",
        "\n",
        "                outputs = model(images)\n",
        "\n",
        "                _, predicted = torch.max(outputs, 1)\n",
        "\n",
        "                total += labels.size(0)\n",
        "\n",
        "                if torch.cuda.is_available():\n",
        "                    correct += (predicted.cpu() == labels.cpu()).sum() \n",
        "                else:\n",
        "                    correct += (predicted == labels).sum()\n",
        "\n",
        "            accuracy = 100 * correct.item() / total\n",
        "\n",
        "            iteration_loss.append(loss.item())\n",
        "            print('Iteration: {}. Loss: {}. Accuracy: {}'.format(iter, loss.item(), accuracy))"
      ],
      "execution_count": null,
      "outputs": [
        {
          "output_type": "stream",
          "name": "stdout",
          "text": [
            "Epoch:  324\n",
            "Epoch:  325\n",
            "Epoch:  326\n",
            "Epoch:  327\n",
            "Epoch:  328\n",
            "Epoch:  329\n",
            "Iteration: 21000. Loss: 0.3795692026615143. Accuracy: 86.16751269035532\n"
          ]
        }
      ]
    },
    {
      "cell_type": "code",
      "metadata": {
        "id": "p2lyOeaGUVNB"
      },
      "source": [
        "torch.save(model.state_dict(), '/content/drive/MyDrive/CSE4238/Offline 2/Models/model_4F.pkl')"
      ],
      "execution_count": null,
      "outputs": []
    },
    {
      "cell_type": "code",
      "metadata": {
        "colab": {
          "base_uri": "https://localhost:8080/",
          "height": 316
        },
        "id": "s1mkETLrUbwc",
        "outputId": "ff43a396-a045-49fb-fd09-948e30d7bbf2"
      },
      "source": [
        "print (iteration_loss)\n",
        "plt.plot(iteration_loss)\n",
        "plt.ylabel('Loss')\n",
        "plt.xlabel('Iteration')\n",
        "plt.show()"
      ],
      "execution_count": null,
      "outputs": [
        {
          "output_type": "stream",
          "name": "stdout",
          "text": [
            "[1.8273845911026, 1.6754894256591797, 1.6052650213241577, 1.5041186809539795, 1.330026388168335, 1.813132405281067, 1.0012925863265991, 0.858940601348877, 0.7729440927505493, 0.9309746026992798, 0.8078073263168335, 0.6990765929222107, 0.754106879234314, 0.8169974684715271, 0.6937756538391113, 0.637956440448761, 0.5517435073852539, 0.7173561453819275, 0.49648869037628174, 0.6509358882904053, 0.5318053960800171, 0.5389615893363953, 0.6128135919570923, 0.35490986704826355, 0.5787357687950134, 0.48564183712005615, 0.3249801695346832, 0.33546972274780273, 0.4564385414123535, 0.3548731505870819, 0.41263529658317566, 0.7040069103240967, 0.522861897945404, 0.41377973556518555, 0.45809856057167053, 0.6609698534011841, 0.352451354265213, 0.4854024648666382, 0.9655871391296387, 0.9655871391296387, 0.9655871391296387, 0.9655871391296387, 0.9655871391296387, 0.9655871391296387, 0.9655871391296387, 0.9655871391296387, 0.9655871391296387, 0.9655871391296387, 0.9655871391296387, 0.9655871391296387, 0.9655871391296387, 0.9655871391296387, 0.9655871391296387, 0.9655871391296387, 0.4437919557094574, 0.3088639974594116, 0.3374162018299103, 0.3795692026615143]\n"
          ]
        },
        {
          "output_type": "display_data",
          "data": {
            "image/png": "[encoded data removed]",
            "text/plain": [
              "<Figure size 432x288 with 1 Axes>"
            ]
          },
          "metadata": {
            "needs_background": "light"
          }
        }
      ]
    },
    {
      "cell_type": "markdown",
      "metadata": {
        "id": "4LjHe-4FYG4T"
      },
      "source": [
        "# **Summary**"
      ]
    },
    {
      "cell_type": "code",
      "metadata": {
        "id": "hordIWL8YEte"
      },
      "source": [
        "from tabulate import tabulate"
      ],
      "execution_count": 3,
      "outputs": []
    },
    {
      "cell_type": "code",
      "metadata": {
        "id": "eas-96aLYebR"
      },
      "source": [
        "summary = {'Activation\\nFunction':['ReLU', 'ReLU', 'ReLU', 'ReLU', 'ReLU'],\n",
        "           'Optimizer':['SGD', 'SGD', 'SGD', 'ADAM', 'ADAM'],\n",
        "           'Loss\\nFunction':['Cross\\nEntropy', 'Cross\\nEntropy', 'Cross\\nEntropy', 'Cross\\nEntropy', 'Cross\\nEntropy'],\n",
        "           'Batch\\nSize':[20, 200, 250, 250, 250],\n",
        "           'Input':['28x28', '28x28', '28x28', '28x28', '28x28'],\n",
        "           'Output':[10, 10, 10, 10, 10],\n",
        "           'Hidden\\nLayers':[6, 6, 6, 6, 6],\n",
        "           'Hidden\\nNodes':[200, 400, 532, 250, 220],\n",
        "           'Epochs':[20, 203, 297, 250, 329],\n",
        "           'Iterations':[15500, 16000, 19000, 16000, 21000],\n",
        "           'LR':[0.01, 0.1, 0.01, 0.001, 0.001],\n",
        "           'Loss':[2.03, 0.95, 1.80, 0.75, 0.38],\n",
        "           'Accuracy':[11.65, 69.29, 30.35, 73.73, 86.17]}\n",
        "\n",
        "table = pd.DataFrame(summary, index =['Base',\n",
        "                                   'Test 01',\n",
        "                                   'Test 02',\n",
        "                                   'Test 03',\n",
        "                                   'Test 04'])"
      ],
      "execution_count": 24,
      "outputs": []
    },
    {
      "cell_type": "code",
      "metadata": {
        "colab": {
          "base_uri": "https://localhost:8080/"
        },
        "id": "O18pp8fsYTFF",
        "outputId": "d73e8335-ae36-46c8-e1ed-998ff11480ba"
      },
      "source": [
        "print('COMPARISON TABLE:')\n",
        "print(tabulate(table, headers = 'keys', tablefmt = 'fancy_grid'))"
      ],
      "execution_count": 25,
      "outputs": [
        {
          "output_type": "stream",
          "name": "stdout",
          "text": [
            "COMPARISON TABLE:\n",
            "╒═════════╤══════════════╤═════════════╤════════════╤═════════╤═════════╤══════════╤══════════╤══════════╤══════════╤══════════════╤═══════╤════════╤════════════╕\n",
            "│         │ Activation   │ Optimizer   │ Loss       │   Batch │ Input   │   Output │   Hidden │   Hidden │   Epochs │   Iterations │    LR │   Loss │   Accuracy │\n",
            "│         │ Function     │             │ Function   │    Size │         │          │   Layers │    Nodes │          │              │       │        │            │\n",
            "╞═════════╪══════════════╪═════════════╪════════════╪═════════╪═════════╪══════════╪══════════╪══════════╪══════════╪══════════════╪═══════╪════════╪════════════╡\n",
            "│ Base    │ ReLU         │ SGD         │ Cross      │      20 │ 28x28   │       10 │        6 │      200 │       20 │        15500 │ 0.01  │   2.03 │      11.65 │\n",
            "│         │              │             │ Entropy    │         │         │          │          │          │          │              │       │        │            │\n",
            "├─────────┼──────────────┼─────────────┼────────────┼─────────┼─────────┼──────────┼──────────┼──────────┼──────────┼──────────────┼───────┼────────┼────────────┤\n",
            "│ Test 01 │ ReLU         │ SGD         │ Cross      │     200 │ 28x28   │       10 │        6 │      400 │      203 │        16000 │ 0.1   │   0.95 │      69.29 │\n",
            "│         │              │             │ Entropy    │         │         │          │          │          │          │              │       │        │            │\n",
            "├─────────┼──────────────┼─────────────┼────────────┼─────────┼─────────┼──────────┼──────────┼──────────┼──────────┼──────────────┼───────┼────────┼────────────┤\n",
            "│ Test 02 │ ReLU         │ SGD         │ Cross      │     250 │ 28x28   │       10 │        6 │      532 │      297 │        19000 │ 0.01  │   1.8  │      30.35 │\n",
            "│         │              │             │ Entropy    │         │         │          │          │          │          │              │       │        │            │\n",
            "├─────────┼──────────────┼─────────────┼────────────┼─────────┼─────────┼──────────┼──────────┼──────────┼──────────┼──────────────┼───────┼────────┼────────────┤\n",
            "│ Test 03 │ ReLU         │ ADAM        │ Cross      │     250 │ 28x28   │       10 │        6 │      250 │      250 │        16000 │ 0.001 │   0.75 │      73.73 │\n",
            "│         │              │             │ Entropy    │         │         │          │          │          │          │              │       │        │            │\n",
            "├─────────┼──────────────┼─────────────┼────────────┼─────────┼─────────┼──────────┼──────────┼──────────┼──────────┼──────────────┼───────┼────────┼────────────┤\n",
            "│ Test 04 │ ReLU         │ ADAM        │ Cross      │     250 │ 28x28   │       10 │        6 │      220 │      329 │        21000 │ 0.001 │   0.38 │      86.17 │\n",
            "│         │              │             │ Entropy    │         │         │          │          │          │          │              │       │        │            │\n",
            "╘═════════╧══════════════╧═════════════╧════════════╧═════════╧═════════╧══════════╧══════════╧══════════╧══════════╧══════════════╧═══════╧════════╧════════════╛\n"
          ]
        }
      ]
    }
  ]
}